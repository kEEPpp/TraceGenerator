{
 "cells": [
  {
   "cell_type": "code",
   "execution_count": 5,
   "id": "9fc0a166-c342-4276-ae6e-3b680b4f0823",
   "metadata": {},
   "outputs": [
    {
     "name": "stdout",
     "output_type": "stream",
     "text": [
      "The autoreload extension is already loaded. To reload it, use:\n",
      "  %reload_ext autoreload\n"
     ]
    }
   ],
   "source": [
    "%load_ext autoreload\n",
    "%autoreload 2\n",
    "\n",
    "    \n",
    "import os\n",
    "import random\n",
    "import sys\n",
    "\n",
    "import matplotlib.pyplot as plt\n",
    "import numpy as np\n",
    "import pandas as pd\n",
    "\n",
    "from TraceGenerator import TraceDataGeneration, AutoGenerator\n",
    "#from TraceDataGeneration_single_trace import TraceDataGeneration"
   ]
  },
  {
   "cell_type": "code",
   "execution_count": 6,
   "id": "3b60f286-b03a-4430-be22-81e7dc615158",
   "metadata": {},
   "outputs": [],
   "source": [
    "function_list = ['constant',\n",
    "                 'impulse_like',\n",
    "                 'linear_transition',\n",
    "                 'rectangular_pulse',\n",
    "                 'step_like',\n",
    "                 'trapezoidal',\n",
    "                 'triangular']"
   ]
  },
  {
   "cell_type": "code",
   "execution_count": 7,
   "id": "d4541631-77bd-4437-a4d4-8a340d44f9d7",
   "metadata": {},
   "outputs": [],
   "source": [
    "import random\n",
    "function = []\n",
    "for i in range(3):\n",
    "    function.append(random.choice(function_list))"
   ]
  },
  {
   "cell_type": "code",
   "execution_count": 54,
   "id": "4757fbca-6f1b-4c31-be35-c754f08a818a",
   "metadata": {},
   "outputs": [],
   "source": [
    "gen = AutoGenerator(n=3, max_value=100, min_value=0, function=function)"
   ]
  },
  {
   "cell_type": "code",
   "execution_count": 81,
   "id": "1b3fb4b2-c859-4460-a77d-7ca5cc2a9bfe",
   "metadata": {},
   "outputs": [
    {
     "data": {
      "text/plain": [
       "[{'start_value': 1.0,\n",
       "  'high_value': 1.0,\n",
       "  'end_value': 1.0,\n",
       "  'time1': 1.0,\n",
       "  'time2': 1.0,\n",
       "  'time3': 1.0,\n",
       "  'time4': 1.0,\n",
       "  'length': 1.0},\n",
       " {'start_value': 1.0,\n",
       "  'high_value': 1.0,\n",
       "  'end_value': 1.0,\n",
       "  'time1': 1.0,\n",
       "  'time2': 1.0,\n",
       "  'length': 1.0},\n",
       " {'start_value': 1.0,\n",
       "  'end_value': 1.0,\n",
       "  'time1': 1.0,\n",
       "  'time2': 1.0,\n",
       "  'length': 1.0}]"
      ]
     },
     "execution_count": 81,
     "metadata": {},
     "output_type": "execute_result"
    }
   ],
   "source": [
    "gen.test_generate()"
   ]
  },
  {
   "cell_type": "code",
   "execution_count": 76,
   "id": "5c5d43c8-4cb7-467b-b352-a8f54aa14d2e",
   "metadata": {},
   "outputs": [],
   "source": [
    "a = gen.random_parameter_generation()"
   ]
  },
  {
   "cell_type": "code",
   "execution_count": 80,
   "id": "1230f54b-6b1a-4f05-a22f-2ec7a5352561",
   "metadata": {},
   "outputs": [
    {
     "data": {
      "text/plain": [
       "3"
      ]
     },
     "execution_count": 80,
     "metadata": {},
     "output_type": "execute_result"
    }
   ],
   "source": [
    "a"
   ]
  },
  {
   "cell_type": "code",
   "execution_count": 186,
   "id": "b8fa493f-6074-41a9-a640-64e187ffde5a",
   "metadata": {},
   "outputs": [
    {
     "name": "stdout",
     "output_type": "stream",
     "text": [
      "4\n",
      "[0, 3, 1, 1, 1]\n"
     ]
    }
   ],
   "source": [
    "def generate_numbers(num_function):\n",
    "    target_recipe_step = random.randint(1, num_function)\n",
    "    print(target_recipe_step)\n",
    "    if target_recipe_step == num_function:\n",
    "        return 1\n",
    "    result = [0] \n",
    "    # 리스트의 길이가 1 이상이고, 원하는 합계가 양수인 경우에만 작동\n",
    "    if target_recipe_step <= 0 or num_function <= 0:\n",
    "        return result\n",
    "    \n",
    "    for _ in range(target_recipe_step - 1):\n",
    "        # 남은 합계 중에서 랜덤한 숫자를 생성\n",
    "        num = random.randint(1, num_function - (target_recipe_step - len(result)))\n",
    "        # 리스트에 추가\n",
    "        result.append(num)\n",
    "        # 합계 업데이트\n",
    "        num_function -= num\n",
    "    \n",
    "    # 마지막 숫자는 남은 합계\n",
    "    result.append(num_function)\n",
    "    \n",
    "    return result\n",
    "\n",
    "# 테스트\n",
    "num_function = 6\n",
    "result = generate_numbers(num_function)\n",
    "print(result)  # 예: [2, 3, 1]"
   ]
  },
  {
   "cell_type": "code",
   "execution_count": null,
   "id": "85da50f2-3e36-424d-9c6a-10fad17a262b",
   "metadata": {},
   "outputs": [],
   "source": [
    "def generate_numbers(num_function):\n",
    "    target_recipe_step = random.randint(1, num_function)\n",
    "    print(target_recipe_step)\n",
    "    if target_recipe_step == num_function:\n",
    "        return 1\n",
    "    result = [0] \n",
    "    # 리스트의 길이가 1 이상이고, 원하는 합계가 양수인 경우에만 작동\n",
    "    if target_recipe_step <= 0 or num_function <= 0:\n",
    "        return result\n",
    "    \n",
    "    for _ in range(target_recipe_step - 1):\n",
    "        # 남은 합계 중에서 랜덤한 숫자를 생성\n",
    "        num = random.randint(1, num_function - (target_recipe_step - len(result)))\n",
    "        # 리스트에 추가\n",
    "        result.append(num)\n",
    "        # 합계 업데이트\n",
    "        num_function -= num\n",
    "    \n",
    "    # 마지막 숫자는 남은 합계\n",
    "    result.append(num_function)\n",
    "    \n",
    "    return result\n",
    "\n",
    "# 테스트\n",
    "num_function = 6\n",
    "result = generate_numbers(num_function)\n",
    "print(result)  # 예: [2, 3, 1]\n",
    "\n",
    "a = []\n",
    "for i, j in zip(result[0:-1], result[1:]):\n",
    "    a.append(function[i:j])"
   ]
  },
  {
   "cell_type": "code",
   "execution_count": 91,
   "id": "99cb274d-a6ad-46c9-b662-40a0fb3c930e",
   "metadata": {},
   "outputs": [],
   "source": [
    "gen = AutoGenerator(n=3, max_value=100, min_value=0, function=function)"
   ]
  },
  {
   "cell_type": "code",
   "execution_count": 92,
   "id": "1b1bbfa7-7843-4193-b5ba-e7edffc1643e",
   "metadata": {},
   "outputs": [],
   "source": [
    "param = gen.random_parameter_generation()"
   ]
  },
  {
   "cell_type": "code",
   "execution_count": 9,
   "id": "92073ee5-001e-41de-9c4c-3bea55853ffc",
   "metadata": {},
   "outputs": [
    {
     "name": "stdout",
     "output_type": "stream",
     "text": [
      "[3 2 4]\n"
     ]
    }
   ],
   "source": [
    "import numpy as np\n",
    "\n",
    "def get_lengths(arr):\n",
    "    return np.array([len(item) for item in arr])\n",
    "\n",
    "# 예제 리스트\n",
    "example_list = [[1, 2, 3], [4, 5], [6, 7, 8, 9]]\n",
    "\n",
    "# 함수 호출\n",
    "result = get_lengths(example_list)\n",
    "print(result)  # 출력: [3 2 4]"
   ]
  },
  {
   "cell_type": "code",
   "execution_count": 95,
   "id": "96f4b59f-c63f-4137-84e1-650e4f9c397d",
   "metadata": {},
   "outputs": [],
   "source": [
    "trace = gen.generate_trace()"
   ]
  },
  {
   "cell_type": "code",
   "execution_count": 96,
   "id": "05e0aea8-9b44-4a64-ab60-f5cfdc35296e",
   "metadata": {},
   "outputs": [
    {
     "data": {
      "text/html": [
       "<div>\n",
       "<style scoped>\n",
       "    .dataframe tbody tr th:only-of-type {\n",
       "        vertical-align: middle;\n",
       "    }\n",
       "\n",
       "    .dataframe tbody tr th {\n",
       "        vertical-align: top;\n",
       "    }\n",
       "\n",
       "    .dataframe thead th {\n",
       "        text-align: right;\n",
       "    }\n",
       "</style>\n",
       "<table border=\"1\" class=\"dataframe\">\n",
       "  <thead>\n",
       "    <tr style=\"text-align: right;\">\n",
       "      <th></th>\n",
       "      <th>LOT_ID</th>\n",
       "      <th>WAFER_ID</th>\n",
       "      <th>PROCESS</th>\n",
       "      <th>PROCESS_STEP</th>\n",
       "      <th>RECIPE</th>\n",
       "      <th>RECIPE_STEP</th>\n",
       "      <th>PARAMETER_NAME</th>\n",
       "      <th>PARAMETER_VALUE</th>\n",
       "      <th>TIME</th>\n",
       "    </tr>\n",
       "  </thead>\n",
       "  <tbody>\n",
       "    <tr>\n",
       "      <th>0</th>\n",
       "      <td>lot</td>\n",
       "      <td>wafer1</td>\n",
       "      <td>process</td>\n",
       "      <td>process_step</td>\n",
       "      <td>recipe</td>\n",
       "      <td>1</td>\n",
       "      <td>parameter_name</td>\n",
       "      <td>107.850001</td>\n",
       "      <td>2024-01-01 00:00:00</td>\n",
       "    </tr>\n",
       "    <tr>\n",
       "      <th>1</th>\n",
       "      <td>lot</td>\n",
       "      <td>wafer1</td>\n",
       "      <td>process</td>\n",
       "      <td>process_step</td>\n",
       "      <td>recipe</td>\n",
       "      <td>1</td>\n",
       "      <td>parameter_name</td>\n",
       "      <td>103.966751</td>\n",
       "      <td>2024-01-01 00:00:01</td>\n",
       "    </tr>\n",
       "    <tr>\n",
       "      <th>2</th>\n",
       "      <td>lot</td>\n",
       "      <td>wafer1</td>\n",
       "      <td>process</td>\n",
       "      <td>process_step</td>\n",
       "      <td>recipe</td>\n",
       "      <td>1</td>\n",
       "      <td>parameter_name</td>\n",
       "      <td>107.274332</td>\n",
       "      <td>2024-01-01 00:00:02</td>\n",
       "    </tr>\n",
       "    <tr>\n",
       "      <th>3</th>\n",
       "      <td>lot</td>\n",
       "      <td>wafer1</td>\n",
       "      <td>process</td>\n",
       "      <td>process_step</td>\n",
       "      <td>recipe</td>\n",
       "      <td>1</td>\n",
       "      <td>parameter_name</td>\n",
       "      <td>103.835427</td>\n",
       "      <td>2024-01-01 00:00:03</td>\n",
       "    </tr>\n",
       "    <tr>\n",
       "      <th>4</th>\n",
       "      <td>lot</td>\n",
       "      <td>wafer1</td>\n",
       "      <td>process</td>\n",
       "      <td>process_step</td>\n",
       "      <td>recipe</td>\n",
       "      <td>1</td>\n",
       "      <td>parameter_name</td>\n",
       "      <td>109.072859</td>\n",
       "      <td>2024-01-01 00:00:04</td>\n",
       "    </tr>\n",
       "    <tr>\n",
       "      <th>...</th>\n",
       "      <td>...</td>\n",
       "      <td>...</td>\n",
       "      <td>...</td>\n",
       "      <td>...</td>\n",
       "      <td>...</td>\n",
       "      <td>...</td>\n",
       "      <td>...</td>\n",
       "      <td>...</td>\n",
       "      <td>...</td>\n",
       "    </tr>\n",
       "    <tr>\n",
       "      <th>53</th>\n",
       "      <td>lot</td>\n",
       "      <td>wafer3</td>\n",
       "      <td>process</td>\n",
       "      <td>process_step</td>\n",
       "      <td>recipe</td>\n",
       "      <td>2</td>\n",
       "      <td>parameter_name</td>\n",
       "      <td>96.409451</td>\n",
       "      <td>2024-01-01 00:02:49</td>\n",
       "    </tr>\n",
       "    <tr>\n",
       "      <th>54</th>\n",
       "      <td>lot</td>\n",
       "      <td>wafer3</td>\n",
       "      <td>process</td>\n",
       "      <td>process_step</td>\n",
       "      <td>recipe</td>\n",
       "      <td>3</td>\n",
       "      <td>parameter_name</td>\n",
       "      <td>-13.652353</td>\n",
       "      <td>2024-01-01 00:02:50</td>\n",
       "    </tr>\n",
       "    <tr>\n",
       "      <th>55</th>\n",
       "      <td>lot</td>\n",
       "      <td>wafer3</td>\n",
       "      <td>process</td>\n",
       "      <td>process_step</td>\n",
       "      <td>recipe</td>\n",
       "      <td>3</td>\n",
       "      <td>parameter_name</td>\n",
       "      <td>0.392853</td>\n",
       "      <td>2024-01-01 00:02:51</td>\n",
       "    </tr>\n",
       "    <tr>\n",
       "      <th>56</th>\n",
       "      <td>lot</td>\n",
       "      <td>wafer3</td>\n",
       "      <td>process</td>\n",
       "      <td>process_step</td>\n",
       "      <td>recipe</td>\n",
       "      <td>3</td>\n",
       "      <td>parameter_name</td>\n",
       "      <td>-0.663884</td>\n",
       "      <td>2024-01-01 00:02:52</td>\n",
       "    </tr>\n",
       "    <tr>\n",
       "      <th>57</th>\n",
       "      <td>lot</td>\n",
       "      <td>wafer3</td>\n",
       "      <td>process</td>\n",
       "      <td>process_step</td>\n",
       "      <td>recipe</td>\n",
       "      <td>3</td>\n",
       "      <td>parameter_name</td>\n",
       "      <td>8.506336</td>\n",
       "      <td>2024-01-01 00:02:53</td>\n",
       "    </tr>\n",
       "  </tbody>\n",
       "</table>\n",
       "<p>174 rows × 9 columns</p>\n",
       "</div>"
      ],
      "text/plain": [
       "   LOT_ID WAFER_ID  PROCESS  PROCESS_STEP  RECIPE RECIPE_STEP  PARAMETER_NAME  \\\n",
       "0     lot   wafer1  process  process_step  recipe           1  parameter_name   \n",
       "1     lot   wafer1  process  process_step  recipe           1  parameter_name   \n",
       "2     lot   wafer1  process  process_step  recipe           1  parameter_name   \n",
       "3     lot   wafer1  process  process_step  recipe           1  parameter_name   \n",
       "4     lot   wafer1  process  process_step  recipe           1  parameter_name   \n",
       "..    ...      ...      ...           ...     ...         ...             ...   \n",
       "53    lot   wafer3  process  process_step  recipe           2  parameter_name   \n",
       "54    lot   wafer3  process  process_step  recipe           3  parameter_name   \n",
       "55    lot   wafer3  process  process_step  recipe           3  parameter_name   \n",
       "56    lot   wafer3  process  process_step  recipe           3  parameter_name   \n",
       "57    lot   wafer3  process  process_step  recipe           3  parameter_name   \n",
       "\n",
       "    PARAMETER_VALUE                TIME  \n",
       "0        107.850001 2024-01-01 00:00:00  \n",
       "1        103.966751 2024-01-01 00:00:01  \n",
       "2        107.274332 2024-01-01 00:00:02  \n",
       "3        103.835427 2024-01-01 00:00:03  \n",
       "4        109.072859 2024-01-01 00:00:04  \n",
       "..              ...                 ...  \n",
       "53        96.409451 2024-01-01 00:02:49  \n",
       "54       -13.652353 2024-01-01 00:02:50  \n",
       "55         0.392853 2024-01-01 00:02:51  \n",
       "56        -0.663884 2024-01-01 00:02:52  \n",
       "57         8.506336 2024-01-01 00:02:53  \n",
       "\n",
       "[174 rows x 9 columns]"
      ]
     },
     "execution_count": 96,
     "metadata": {},
     "output_type": "execute_result"
    }
   ],
   "source": [
    "trace"
   ]
  },
  {
   "cell_type": "code",
   "execution_count": 97,
   "id": "3dde075b-cd7f-4d72-bc09-6e6bae50bd3c",
   "metadata": {},
   "outputs": [
    {
     "name": "stdout",
     "output_type": "stream",
     "text": [
      "[26 54 57]\n"
     ]
    },
    {
     "data": {
      "image/png": "[encoded data removed]",
      "text/plain": [
       "<Figure size 1200x600 with 1 Axes>"
      ]
     },
     "metadata": {},
     "output_type": "display_data"
    }
   ],
   "source": [
    "gen.trace_checker(trace)"
   ]
  },
  {
   "cell_type": "code",
   "execution_count": 14,
   "id": "3df365bc-9c61-4df2-84d0-b226b7f013ba",
   "metadata": {},
   "outputs": [],
   "source": [
    "def get_lengths(arr):\n",
    "    return np.array([len(item) for item in arr])\n",
    "length = get_lengths(trace[0])#length_function)"
   ]
  },
  {
   "cell_type": "code",
   "execution_count": 15,
   "id": "0a3c9444-7259-461e-b157-f930c9306117",
   "metadata": {},
   "outputs": [
    {
     "data": {
      "text/plain": [
       "array([ 1,  9, 17])"
      ]
     },
     "execution_count": 15,
     "metadata": {},
     "output_type": "execute_result"
    }
   ],
   "source": [
    "length"
   ]
  },
  {
   "cell_type": "code",
   "execution_count": 23,
   "id": "3081fa99-ff60-41bf-98ee-04e0183f0977",
   "metadata": {},
   "outputs": [
    {
     "data": {
      "text/plain": [
       "27"
      ]
     },
     "execution_count": 23,
     "metadata": {},
     "output_type": "execute_result"
    }
   ],
   "source": [
    "len(np.concatenate(trace[0]))"
   ]
  },
  {
   "cell_type": "code",
   "execution_count": 25,
   "id": "397d2a9c-3ba3-44b3-afed-cbb364737e1d",
   "metadata": {},
   "outputs": [
    {
     "data": {
      "text/plain": [
       "array([ 1, 10, 27])"
      ]
     },
     "execution_count": 25,
     "metadata": {},
     "output_type": "execute_result"
    }
   ],
   "source": [
    "np.cumsum(single_trace_step_lenght)"
   ]
  },
  {
   "cell_type": "code",
   "execution_count": 26,
   "id": "057cb333-21d9-4bb1-bf0d-7b2575c4c499",
   "metadata": {},
   "outputs": [],
   "source": [
    "col = ['LOT_ID', 'WAFER_ID', 'PROCESS', 'PROCESS_STEP', 'RECIPE', 'RECIPE_STEP', 'PARAMETER_NAME',\n",
    "       'PARAMETER_VALUE', 'TIME']"
   ]
  },
  {
   "cell_type": "code",
   "execution_count": 51,
   "id": "ee79cde4-f69c-4ea9-8fe1-c93ecf1bc158",
   "metadata": {},
   "outputs": [],
   "source": [
    "data = []\n",
    "for num, single in enumerate(trace):\n",
    "    df = pd.DataFrame([], columns=col)\n",
    "    df.PARAMETER_VALUE = np.concatenate(single)\n",
    "    df['LOT_ID'] = 'lot'\n",
    "    df['WAFER_ID'] = f'wafer{num+1}'\n",
    "    df['PROCESS'] = 'process'\n",
    "    df['PROCESS_STEP'] = 'process_step'\n",
    "    df['RECIPE'] = 'recipe'\n",
    "    df['PARAMETER_NAME'] = 'parameter_name'\n",
    "    step_list = []\n",
    "    # for step_num, step in enumerate(single):\n",
    "    #     recipe_step = [str(step_num+1)] * len(step)\n",
    "    #     step_list.extend(recipe_step)\n",
    "    df['RECIPE_STEP'] = [str(step_num+1) for step_num, step in enumerate(single) for _ in step]\n",
    "    data.append(df)\n",
    "data = pd.concat(data)\n",
    "data['TIME'] = pd.date_range(\"2024-01-01\", periods=data.shape[0], freq=\"S\")"
   ]
  },
  {
   "cell_type": "code",
   "execution_count": 50,
   "id": "766f2a26-9826-4cc6-909d-e601e65f3ce4",
   "metadata": {},
   "outputs": [
    {
     "data": {
      "text/plain": [
       "['1',\n",
       " '2',\n",
       " '2',\n",
       " '2',\n",
       " '2',\n",
       " '2',\n",
       " '2',\n",
       " '2',\n",
       " '2',\n",
       " '2',\n",
       " '3',\n",
       " '3',\n",
       " '3',\n",
       " '3',\n",
       " '3',\n",
       " '3',\n",
       " '3',\n",
       " '3',\n",
       " '3',\n",
       " '3',\n",
       " '3',\n",
       " '3',\n",
       " '3',\n",
       " '3',\n",
       " '3',\n",
       " '3',\n",
       " '3']"
      ]
     },
     "execution_count": 50,
     "metadata": {},
     "output_type": "execute_result"
    }
   ],
   "source": [
    "[str(step_num+1) for step_num, step in enumerate(single) for _ in step]"
   ]
  },
  {
   "cell_type": "code",
   "execution_count": 49,
   "id": "a763eee9-7279-4394-a086-353bf4bc8d72",
   "metadata": {},
   "outputs": [
    {
     "ename": "ValueError",
     "evalue": "All arrays must be of the same length",
     "output_type": "error",
     "traceback": [
      "\u001b[1;31m---------------------------------------------------------------------------\u001b[0m",
      "\u001b[1;31mValueError\u001b[0m                                Traceback (most recent call last)",
      "Cell \u001b[1;32mIn[49], line 5\u001b[0m\n\u001b[0;32m      2\u001b[0m date_range \u001b[38;5;241m=\u001b[39m pd\u001b[38;5;241m.\u001b[39mdate_range(\u001b[38;5;124m\"\u001b[39m\u001b[38;5;124m2024-01-01\u001b[39m\u001b[38;5;124m\"\u001b[39m, periods\u001b[38;5;241m=\u001b[39m\u001b[38;5;28msum\u001b[39m(\u001b[38;5;28mlen\u001b[39m(single) \u001b[38;5;28;01mfor\u001b[39;00m single \u001b[38;5;129;01min\u001b[39;00m trace), freq\u001b[38;5;241m=\u001b[39m\u001b[38;5;124m\"\u001b[39m\u001b[38;5;124mS\u001b[39m\u001b[38;5;124m\"\u001b[39m)\n\u001b[0;32m      4\u001b[0m \u001b[38;5;28;01mfor\u001b[39;00m num, single \u001b[38;5;129;01min\u001b[39;00m \u001b[38;5;28menumerate\u001b[39m(trace):\n\u001b[1;32m----> 5\u001b[0m     df \u001b[38;5;241m=\u001b[39m \u001b[43mpd\u001b[49m\u001b[38;5;241;43m.\u001b[39;49m\u001b[43mDataFrame\u001b[49m\u001b[43m(\u001b[49m\u001b[43m{\u001b[49m\u001b[38;5;124;43m'\u001b[39;49m\u001b[38;5;124;43mPARAMETER_VALUE\u001b[39;49m\u001b[38;5;124;43m'\u001b[39;49m\u001b[43m:\u001b[49m\u001b[43m \u001b[49m\u001b[43mnp\u001b[49m\u001b[38;5;241;43m.\u001b[39;49m\u001b[43mconcatenate\u001b[49m\u001b[43m(\u001b[49m\u001b[43msingle\u001b[49m\u001b[43m)\u001b[49m\u001b[43m,\u001b[49m\n\u001b[0;32m      6\u001b[0m \u001b[43m                       \u001b[49m\u001b[38;5;124;43m'\u001b[39;49m\u001b[38;5;124;43mLOT_ID\u001b[39;49m\u001b[38;5;124;43m'\u001b[39;49m\u001b[43m:\u001b[49m\u001b[43m \u001b[49m\u001b[43m[\u001b[49m\u001b[38;5;124;43m'\u001b[39;49m\u001b[38;5;124;43mlot\u001b[39;49m\u001b[38;5;124;43m'\u001b[39;49m\u001b[43m]\u001b[49m\u001b[43m \u001b[49m\u001b[38;5;241;43m*\u001b[39;49m\u001b[43m \u001b[49m\u001b[38;5;28;43mlen\u001b[39;49m\u001b[43m(\u001b[49m\u001b[43msingle\u001b[49m\u001b[43m)\u001b[49m\u001b[43m,\u001b[49m\n\u001b[0;32m      7\u001b[0m \u001b[43m                       \u001b[49m\u001b[38;5;124;43m'\u001b[39;49m\u001b[38;5;124;43mWAFER_ID\u001b[39;49m\u001b[38;5;124;43m'\u001b[39;49m\u001b[43m:\u001b[49m\u001b[43m \u001b[49m\u001b[43m[\u001b[49m\u001b[38;5;124;43mf\u001b[39;49m\u001b[38;5;124;43m'\u001b[39;49m\u001b[38;5;124;43mwafer\u001b[39;49m\u001b[38;5;132;43;01m{\u001b[39;49;00m\u001b[43mnum\u001b[49m\u001b[38;5;241;43m+\u001b[39;49m\u001b[38;5;241;43m1\u001b[39;49m\u001b[38;5;132;43;01m}\u001b[39;49;00m\u001b[38;5;124;43m'\u001b[39;49m\u001b[43m]\u001b[49m\u001b[43m \u001b[49m\u001b[38;5;241;43m*\u001b[39;49m\u001b[43m \u001b[49m\u001b[38;5;28;43mlen\u001b[39;49m\u001b[43m(\u001b[49m\u001b[43msingle\u001b[49m\u001b[43m)\u001b[49m\u001b[43m,\u001b[49m\n\u001b[0;32m      8\u001b[0m \u001b[43m                       \u001b[49m\u001b[38;5;124;43m'\u001b[39;49m\u001b[38;5;124;43mPROCESS\u001b[39;49m\u001b[38;5;124;43m'\u001b[39;49m\u001b[43m:\u001b[49m\u001b[43m \u001b[49m\u001b[43m[\u001b[49m\u001b[38;5;124;43m'\u001b[39;49m\u001b[38;5;124;43mprocess\u001b[39;49m\u001b[38;5;124;43m'\u001b[39;49m\u001b[43m]\u001b[49m\u001b[43m \u001b[49m\u001b[38;5;241;43m*\u001b[39;49m\u001b[43m \u001b[49m\u001b[38;5;28;43mlen\u001b[39;49m\u001b[43m(\u001b[49m\u001b[43msingle\u001b[49m\u001b[43m)\u001b[49m\u001b[43m,\u001b[49m\n\u001b[0;32m      9\u001b[0m \u001b[43m                       \u001b[49m\u001b[38;5;124;43m'\u001b[39;49m\u001b[38;5;124;43mPROCESS_STEP\u001b[39;49m\u001b[38;5;124;43m'\u001b[39;49m\u001b[43m:\u001b[49m\u001b[43m \u001b[49m\u001b[43m[\u001b[49m\u001b[38;5;124;43m'\u001b[39;49m\u001b[38;5;124;43mprocess_step\u001b[39;49m\u001b[38;5;124;43m'\u001b[39;49m\u001b[43m]\u001b[49m\u001b[43m \u001b[49m\u001b[38;5;241;43m*\u001b[39;49m\u001b[43m \u001b[49m\u001b[38;5;28;43mlen\u001b[39;49m\u001b[43m(\u001b[49m\u001b[43msingle\u001b[49m\u001b[43m)\u001b[49m\u001b[43m,\u001b[49m\n\u001b[0;32m     10\u001b[0m \u001b[43m                       \u001b[49m\u001b[38;5;124;43m'\u001b[39;49m\u001b[38;5;124;43mRECIPE\u001b[39;49m\u001b[38;5;124;43m'\u001b[39;49m\u001b[43m:\u001b[49m\u001b[43m \u001b[49m\u001b[43m[\u001b[49m\u001b[38;5;124;43m'\u001b[39;49m\u001b[38;5;124;43mrecipe\u001b[39;49m\u001b[38;5;124;43m'\u001b[39;49m\u001b[43m]\u001b[49m\u001b[43m \u001b[49m\u001b[38;5;241;43m*\u001b[39;49m\u001b[43m \u001b[49m\u001b[38;5;28;43mlen\u001b[39;49m\u001b[43m(\u001b[49m\u001b[43msingle\u001b[49m\u001b[43m)\u001b[49m\u001b[43m,\u001b[49m\n\u001b[0;32m     11\u001b[0m \u001b[43m                       \u001b[49m\u001b[38;5;124;43m'\u001b[39;49m\u001b[38;5;124;43mPARAMETER_NAME\u001b[39;49m\u001b[38;5;124;43m'\u001b[39;49m\u001b[43m:\u001b[49m\u001b[43m \u001b[49m\u001b[43m[\u001b[49m\u001b[38;5;124;43m'\u001b[39;49m\u001b[38;5;124;43mparameter_name\u001b[39;49m\u001b[38;5;124;43m'\u001b[39;49m\u001b[43m]\u001b[49m\u001b[43m \u001b[49m\u001b[38;5;241;43m*\u001b[39;49m\u001b[43m \u001b[49m\u001b[38;5;28;43mlen\u001b[39;49m\u001b[43m(\u001b[49m\u001b[43msingle\u001b[49m\u001b[43m)\u001b[49m\u001b[43m,\u001b[49m\n\u001b[0;32m     12\u001b[0m \u001b[43m                       \u001b[49m\u001b[38;5;124;43m'\u001b[39;49m\u001b[38;5;124;43mRECIPE_STEP\u001b[39;49m\u001b[38;5;124;43m'\u001b[39;49m\u001b[43m:\u001b[49m\u001b[43m \u001b[49m\u001b[43m[\u001b[49m\u001b[38;5;28;43mstr\u001b[39;49m\u001b[43m(\u001b[49m\u001b[43mstep_num\u001b[49m\u001b[38;5;241;43m+\u001b[39;49m\u001b[38;5;241;43m1\u001b[39;49m\u001b[43m)\u001b[49m\u001b[43m \u001b[49m\u001b[38;5;28;43;01mfor\u001b[39;49;00m\u001b[43m \u001b[49m\u001b[43mstep_num\u001b[49m\u001b[43m,\u001b[49m\u001b[43m \u001b[49m\u001b[43mstep\u001b[49m\u001b[43m \u001b[49m\u001b[38;5;129;43;01min\u001b[39;49;00m\u001b[43m \u001b[49m\u001b[38;5;28;43menumerate\u001b[39;49m\u001b[43m(\u001b[49m\u001b[43msingle\u001b[49m\u001b[43m)\u001b[49m\u001b[43m \u001b[49m\u001b[38;5;28;43;01mfor\u001b[39;49;00m\u001b[43m \u001b[49m\u001b[43m_\u001b[49m\u001b[43m \u001b[49m\u001b[38;5;129;43;01min\u001b[39;49;00m\u001b[43m \u001b[49m\u001b[43mstep\u001b[49m\u001b[43m]\u001b[49m\u001b[43m}\u001b[49m\u001b[43m)\u001b[49m\n\u001b[0;32m     13\u001b[0m     data\u001b[38;5;241m.\u001b[39mappend(df)\n\u001b[0;32m     15\u001b[0m data \u001b[38;5;241m=\u001b[39m pd\u001b[38;5;241m.\u001b[39mconcat(data)\n",
      "File \u001b[1;32m~\\miniconda3\\envs\\python38\\lib\\site-packages\\pandas\\core\\frame.py:709\u001b[0m, in \u001b[0;36mDataFrame.__init__\u001b[1;34m(self, data, index, columns, dtype, copy)\u001b[0m\n\u001b[0;32m    703\u001b[0m     mgr \u001b[38;5;241m=\u001b[39m \u001b[38;5;28mself\u001b[39m\u001b[38;5;241m.\u001b[39m_init_mgr(\n\u001b[0;32m    704\u001b[0m         data, axes\u001b[38;5;241m=\u001b[39m{\u001b[38;5;124m\"\u001b[39m\u001b[38;5;124mindex\u001b[39m\u001b[38;5;124m\"\u001b[39m: index, \u001b[38;5;124m\"\u001b[39m\u001b[38;5;124mcolumns\u001b[39m\u001b[38;5;124m\"\u001b[39m: columns}, dtype\u001b[38;5;241m=\u001b[39mdtype, copy\u001b[38;5;241m=\u001b[39mcopy\n\u001b[0;32m    705\u001b[0m     )\n\u001b[0;32m    707\u001b[0m \u001b[38;5;28;01melif\u001b[39;00m \u001b[38;5;28misinstance\u001b[39m(data, \u001b[38;5;28mdict\u001b[39m):\n\u001b[0;32m    708\u001b[0m     \u001b[38;5;66;03m# GH#38939 de facto copy defaults to False only in non-dict cases\u001b[39;00m\n\u001b[1;32m--> 709\u001b[0m     mgr \u001b[38;5;241m=\u001b[39m \u001b[43mdict_to_mgr\u001b[49m\u001b[43m(\u001b[49m\u001b[43mdata\u001b[49m\u001b[43m,\u001b[49m\u001b[43m \u001b[49m\u001b[43mindex\u001b[49m\u001b[43m,\u001b[49m\u001b[43m \u001b[49m\u001b[43mcolumns\u001b[49m\u001b[43m,\u001b[49m\u001b[43m \u001b[49m\u001b[43mdtype\u001b[49m\u001b[38;5;241;43m=\u001b[39;49m\u001b[43mdtype\u001b[49m\u001b[43m,\u001b[49m\u001b[43m \u001b[49m\u001b[43mcopy\u001b[49m\u001b[38;5;241;43m=\u001b[39;49m\u001b[43mcopy\u001b[49m\u001b[43m,\u001b[49m\u001b[43m \u001b[49m\u001b[43mtyp\u001b[49m\u001b[38;5;241;43m=\u001b[39;49m\u001b[43mmanager\u001b[49m\u001b[43m)\u001b[49m\n\u001b[0;32m    710\u001b[0m \u001b[38;5;28;01melif\u001b[39;00m \u001b[38;5;28misinstance\u001b[39m(data, ma\u001b[38;5;241m.\u001b[39mMaskedArray):\n\u001b[0;32m    711\u001b[0m     \u001b[38;5;28;01mfrom\u001b[39;00m \u001b[38;5;21;01mnumpy\u001b[39;00m\u001b[38;5;21;01m.\u001b[39;00m\u001b[38;5;21;01mma\u001b[39;00m \u001b[38;5;28;01mimport\u001b[39;00m mrecords\n",
      "File \u001b[1;32m~\\miniconda3\\envs\\python38\\lib\\site-packages\\pandas\\core\\internals\\construction.py:481\u001b[0m, in \u001b[0;36mdict_to_mgr\u001b[1;34m(data, index, columns, dtype, typ, copy)\u001b[0m\n\u001b[0;32m    477\u001b[0m     \u001b[38;5;28;01melse\u001b[39;00m:\n\u001b[0;32m    478\u001b[0m         \u001b[38;5;66;03m# dtype check to exclude e.g. range objects, scalars\u001b[39;00m\n\u001b[0;32m    479\u001b[0m         arrays \u001b[38;5;241m=\u001b[39m [x\u001b[38;5;241m.\u001b[39mcopy() \u001b[38;5;28;01mif\u001b[39;00m \u001b[38;5;28mhasattr\u001b[39m(x, \u001b[38;5;124m\"\u001b[39m\u001b[38;5;124mdtype\u001b[39m\u001b[38;5;124m\"\u001b[39m) \u001b[38;5;28;01melse\u001b[39;00m x \u001b[38;5;28;01mfor\u001b[39;00m x \u001b[38;5;129;01min\u001b[39;00m arrays]\n\u001b[1;32m--> 481\u001b[0m \u001b[38;5;28;01mreturn\u001b[39;00m \u001b[43marrays_to_mgr\u001b[49m\u001b[43m(\u001b[49m\u001b[43marrays\u001b[49m\u001b[43m,\u001b[49m\u001b[43m \u001b[49m\u001b[43mcolumns\u001b[49m\u001b[43m,\u001b[49m\u001b[43m \u001b[49m\u001b[43mindex\u001b[49m\u001b[43m,\u001b[49m\u001b[43m \u001b[49m\u001b[43mdtype\u001b[49m\u001b[38;5;241;43m=\u001b[39;49m\u001b[43mdtype\u001b[49m\u001b[43m,\u001b[49m\u001b[43m \u001b[49m\u001b[43mtyp\u001b[49m\u001b[38;5;241;43m=\u001b[39;49m\u001b[43mtyp\u001b[49m\u001b[43m,\u001b[49m\u001b[43m \u001b[49m\u001b[43mconsolidate\u001b[49m\u001b[38;5;241;43m=\u001b[39;49m\u001b[43mcopy\u001b[49m\u001b[43m)\u001b[49m\n",
      "File \u001b[1;32m~\\miniconda3\\envs\\python38\\lib\\site-packages\\pandas\\core\\internals\\construction.py:115\u001b[0m, in \u001b[0;36marrays_to_mgr\u001b[1;34m(arrays, columns, index, dtype, verify_integrity, typ, consolidate)\u001b[0m\n\u001b[0;32m    112\u001b[0m \u001b[38;5;28;01mif\u001b[39;00m verify_integrity:\n\u001b[0;32m    113\u001b[0m     \u001b[38;5;66;03m# figure out the index, if necessary\u001b[39;00m\n\u001b[0;32m    114\u001b[0m     \u001b[38;5;28;01mif\u001b[39;00m index \u001b[38;5;129;01mis\u001b[39;00m \u001b[38;5;28;01mNone\u001b[39;00m:\n\u001b[1;32m--> 115\u001b[0m         index \u001b[38;5;241m=\u001b[39m \u001b[43m_extract_index\u001b[49m\u001b[43m(\u001b[49m\u001b[43marrays\u001b[49m\u001b[43m)\u001b[49m\n\u001b[0;32m    116\u001b[0m     \u001b[38;5;28;01melse\u001b[39;00m:\n\u001b[0;32m    117\u001b[0m         index \u001b[38;5;241m=\u001b[39m ensure_index(index)\n",
      "File \u001b[1;32m~\\miniconda3\\envs\\python38\\lib\\site-packages\\pandas\\core\\internals\\construction.py:655\u001b[0m, in \u001b[0;36m_extract_index\u001b[1;34m(data)\u001b[0m\n\u001b[0;32m    653\u001b[0m lengths \u001b[38;5;241m=\u001b[39m \u001b[38;5;28mlist\u001b[39m(\u001b[38;5;28mset\u001b[39m(raw_lengths))\n\u001b[0;32m    654\u001b[0m \u001b[38;5;28;01mif\u001b[39;00m \u001b[38;5;28mlen\u001b[39m(lengths) \u001b[38;5;241m>\u001b[39m \u001b[38;5;241m1\u001b[39m:\n\u001b[1;32m--> 655\u001b[0m     \u001b[38;5;28;01mraise\u001b[39;00m \u001b[38;5;167;01mValueError\u001b[39;00m(\u001b[38;5;124m\"\u001b[39m\u001b[38;5;124mAll arrays must be of the same length\u001b[39m\u001b[38;5;124m\"\u001b[39m)\n\u001b[0;32m    657\u001b[0m \u001b[38;5;28;01mif\u001b[39;00m have_dicts:\n\u001b[0;32m    658\u001b[0m     \u001b[38;5;28;01mraise\u001b[39;00m \u001b[38;5;167;01mValueError\u001b[39;00m(\n\u001b[0;32m    659\u001b[0m         \u001b[38;5;124m\"\u001b[39m\u001b[38;5;124mMixing dicts with non-Series may lead to ambiguous ordering.\u001b[39m\u001b[38;5;124m\"\u001b[39m\n\u001b[0;32m    660\u001b[0m     )\n",
      "\u001b[1;31mValueError\u001b[0m: All arrays must be of the same length"
     ]
    }
   ],
   "source": [
    "data = []\n",
    "date_range = pd.date_range(\"2024-01-01\", periods=sum(len(single) for single in trace), freq=\"S\")\n",
    "\n",
    "for num, single in enumerate(trace):\n",
    "    df = pd.DataFrame({'PARAMETER_VALUE': np.concatenate(single),\n",
    "                       'LOT_ID': ['lot'] * len(single),\n",
    "                       'WAFER_ID': [f'wafer{num+1}'] * len(single),\n",
    "                       'PROCESS': ['process'] * len(single),\n",
    "                       'PROCESS_STEP': ['process_step'] * len(single),\n",
    "                       'RECIPE': ['recipe'] * len(single),\n",
    "                       'PARAMETER_NAME': ['parameter_name'] * len(single),\n",
    "                       'RECIPE_STEP': [str(step_num+1) for step_num, step in enumerate(single) for _ in step]})\n",
    "    data.append(df)\n",
    "\n",
    "data = pd.concat(data)\n",
    "data['TIME'] = date_range"
   ]
  },
  {
   "cell_type": "code",
   "execution_count": 23,
   "id": "9866a4a7-f2c0-4674-a85c-7d67cb4b6312",
   "metadata": {},
   "outputs": [
    {
     "data": {
      "image/png": "[encoded data removed]",
      "text/plain": [
       "<Figure size 640x480 with 1 Axes>"
      ]
     },
     "metadata": {},
     "output_type": "display_data"
    }
   ],
   "source": [
    "for t in trace:\n",
    "    tt = np.concatenate(t)\n",
    "    plt.plot(tt)\n",
    "for v in [12, 12+63, 36+12+63]:\n",
    "    plt.axvline(v, linestyle='--', alpha=0.5, color='black')\n",
    "plt.show()"
   ]
  },
  {
   "cell_type": "code",
   "execution_count": null,
   "id": "980d4ed4-abf4-4ce3-b9db-311d1681e56c",
   "metadata": {},
   "outputs": [],
   "source": []
  }
 ],
 "metadata": {
  "kernelspec": {
   "display_name": "Python 3 (ipykernel)",
   "language": "python",
   "name": "python3"
  },
  "language_info": {
   "codemirror_mode": {
    "name": "ipython",
    "version": 3
   },
   "file_extension": ".py",
   "mimetype": "text/x-python",
   "name": "python",
   "nbconvert_exporter": "python",
   "pygments_lexer": "ipython3",
   "version": "3.8.19"
  }
 },
 "nbformat": 4,
 "nbformat_minor": 5
}
