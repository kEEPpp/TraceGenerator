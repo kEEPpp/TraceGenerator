{
 "cells": [
  {
   "cell_type": "code",
   "execution_count": 1,
   "id": "0fea54bd-a4b2-45bc-a990-e310f54abd0d",
   "metadata": {},
   "outputs": [
    {
     "name": "stdout",
     "output_type": "stream",
     "text": [
      "Importing the dtw module. When using in academic works please cite:\n",
      "  T. Giorgino. Computing and Visualizing Dynamic Time Warping Alignments in R: The dtw Package.\n",
      "  J. Stat. Soft., doi:10.18637/jss.v031.i07.\n",
      "\n"
     ]
    }
   ],
   "source": [
    "%load_ext autoreload\n",
    "%autoreload 2\n",
    "\n",
    "import json\n",
    "import os\n",
    "import random\n",
    "import sys \n",
    "import time\n",
    "\n",
    "import matplotlib.pyplot as plt\n",
    "import numpy as np\n",
    "import pandas as pd\n",
    "\n",
    "from glob import glob\n",
    "from scipy import interpolate\n",
    "\n",
    "sys.path.append(os.path.dirname(os.path.abspath('')))\n",
    "from AutoModelerLoader import AutoModelLoader\n",
    "from AutoModelerCleaner import AutoModelCleaner\n",
    "from AutoModelerCluster import AutoModelCluster\n",
    "from AutoModelerHough import AutoModelHough\n",
    "from AutoModelerSegmenter import AutoModelSegmenter\n",
    "from AutoModelerAngleDetector import AutoModelAngleDetector\n",
    "from execution import execution\n",
    "from helper import *"
   ]
  },
  {
   "cell_type": "code",
   "execution_count": 2,
   "id": "6b824759-7844-4b07-8c12-d1d963b4967c",
   "metadata": {},
   "outputs": [],
   "source": [
    "from openpyxl import load_workbook as xl_load\n",
    "from openpyxl.drawing.image import Image\n",
    "from openpyxl.utils import get_column_letter"
   ]
  },
  {
   "cell_type": "markdown",
   "id": "c5b333df-1ccf-4b89-be70-5352a8755c39",
   "metadata": {},
   "source": [
    "# config & data load"
   ]
  },
  {
   "cell_type": "code",
   "execution_count": 3,
   "id": "d503bb32-02df-4bd5-87c6-d568eaf8f035",
   "metadata": {},
   "outputs": [],
   "source": [
    "with open(os.path.join('..', 'config.json')) as f:\n",
    "    config = json.load(f)"
   ]
  },
  {
   "cell_type": "code",
   "execution_count": 4,
   "id": "1696ba1c-6b8d-48ae-b337-26497ed9471a",
   "metadata": {},
   "outputs": [],
   "source": [
    "fn = glob(os.path.join('C:', os.sep, 'Users', 'austinp', 'OneDrive - Synopsys, Inc', 'Data', 'FDC', 'dataset', '*.csv'))\n",
    "#fn = glob(os.path.join('C:', os.sep, 'Users', 'austinp', 'OneDrive - Synopsys, Inc', 'Data', 'FDC', 'validation_case', '*.csv'))\n",
    "import re\n",
    "\n",
    "def extract_number(file_path):\n",
    "    number = re.search(r'\\d+', file_path).group()\n",
    "    return int(number)\n",
    "\n",
    "# Sort the list of file paths based on the extracted number\n",
    "fn = sorted(fn, key=extract_number)\n",
    "\n",
    "df_list = []\n",
    "for p in fn:\n",
    "    df = pd.read_csv(p, dtype={'RECIPE_STEP':str})\n",
    "    #df = df.iloc[:,1:]\n",
    "    #df = df.sort_values('Time').reset_index(drop=True)\n",
    "    df_list.append(df)"
   ]
  },
  {
   "cell_type": "markdown",
   "id": "f65e9ea1-5257-4adc-b90c-b3eb161a24e7",
   "metadata": {},
   "source": [
    "# full recipe trace figure save"
   ]
  },
  {
   "cell_type": "code",
   "execution_count": 2,
   "id": "b4f64d7c-6162-4acc-99ca-80942e126b81",
   "metadata": {
    "collapsed": true,
    "jupyter": {
     "outputs_hidden": true
    },
    "tags": []
   },
   "outputs": [
    {
     "ename": "NameError",
     "evalue": "name 'df_list' is not defined",
     "output_type": "error",
     "traceback": [
      "\u001b[1;31m---------------------------------------------------------------------------\u001b[0m",
      "\u001b[1;31mNameError\u001b[0m                                 Traceback (most recent call last)",
      "\u001b[1;32m~\\AppData\\Local\\Temp/ipykernel_26760/815128831.py\u001b[0m in \u001b[0;36m<module>\u001b[1;34m\u001b[0m\n\u001b[0;32m      2\u001b[0m \u001b[0mstart_col\u001b[0m \u001b[1;33m=\u001b[0m \u001b[1;36m2\u001b[0m\u001b[1;33m\u001b[0m\u001b[1;33m\u001b[0m\u001b[0m\n\u001b[0;32m      3\u001b[0m \u001b[1;33m\u001b[0m\u001b[0m\n\u001b[1;32m----> 4\u001b[1;33m \u001b[1;32mfor\u001b[0m \u001b[0mdf\u001b[0m\u001b[1;33m,\u001b[0m \u001b[0mp\u001b[0m \u001b[1;32min\u001b[0m \u001b[0mzip\u001b[0m\u001b[1;33m(\u001b[0m\u001b[0mdf_list\u001b[0m\u001b[1;33m,\u001b[0m \u001b[0mfn\u001b[0m\u001b[1;33m)\u001b[0m\u001b[1;33m:\u001b[0m\u001b[1;33m\u001b[0m\u001b[1;33m\u001b[0m\u001b[0m\n\u001b[0m\u001b[0;32m      5\u001b[0m     \u001b[0mdf\u001b[0m \u001b[1;33m=\u001b[0m \u001b[0mdf\u001b[0m\u001b[1;33m.\u001b[0m\u001b[0mcopy\u001b[0m\u001b[1;33m(\u001b[0m\u001b[1;33m)\u001b[0m\u001b[1;33m\u001b[0m\u001b[1;33m\u001b[0m\u001b[0m\n\u001b[0;32m      6\u001b[0m     \u001b[0mpname\u001b[0m \u001b[1;33m=\u001b[0m \u001b[0mp\u001b[0m\u001b[1;33m.\u001b[0m\u001b[0msplit\u001b[0m\u001b[1;33m(\u001b[0m\u001b[0mos\u001b[0m\u001b[1;33m.\u001b[0m\u001b[0msep\u001b[0m\u001b[1;33m)\u001b[0m\u001b[1;33m[\u001b[0m\u001b[1;33m-\u001b[0m\u001b[1;36m1\u001b[0m\u001b[1;33m]\u001b[0m\u001b[1;33m.\u001b[0m\u001b[0msplit\u001b[0m\u001b[1;33m(\u001b[0m\u001b[1;34m'.'\u001b[0m\u001b[1;33m)\u001b[0m\u001b[1;33m[\u001b[0m\u001b[1;36m0\u001b[0m\u001b[1;33m]\u001b[0m\u001b[1;33m\u001b[0m\u001b[1;33m\u001b[0m\u001b[0m\n",
      "\u001b[1;31mNameError\u001b[0m: name 'df_list' is not defined"
     ]
    }
   ],
   "source": [
    "start_row = 3\n",
    "start_col = 2\n",
    "\n",
    "for df, p in zip(df_list, fn):\n",
    "    df = df.copy()\n",
    "    pname = p.split(os.sep)[-1].split('.')[0]\n",
    "    \n",
    "    loader = AutoModelLoader('LOT_ID', 'WAFER_ID', 'PROCESS', 'PROCESS_STEP', 'RECIPE', 'RECIPE_STEP', 'PARAMETER_NAME', 'PARAMETER_VALUE', 'TIME', df)\n",
    "    df = loader.data_load()\n",
    "\n",
    "    # cleaner\n",
    "    step_list = list(np.sort(np.unique(df.RECIPE_STEP.values).astype(int)).astype('str'))\n",
    "    cleaner = AutoModelCleaner(config, df)\n",
    "    cleaned_data, global_stat = cleaner.get_cleaning_data()\n",
    "\n",
    "    # align all wafer\n",
    "    reset_data, reset_boundary = reset_index(cleaned_data, step_list)\n",
    "    \n",
    "    for rs in step_list:\n",
    "        plt.figure(figsize=(12,6))\n",
    "        plt.title(f'{pname}')\n",
    "        for d in reset_data:\n",
    "            #print(d.identifier.unique())\n",
    "            # if d.identifier.unique()[0] == '1922206_1922206.20':\n",
    "            #     plt.plot(d.PARAMETER_VALUE, marker='o', color='red', linewidth=3, zorder=100)\n",
    "            plt.plot(d.PARAMETER_VALUE)\n",
    "        for v in reset_boundary:\n",
    "            plt.axvline(v, color='black', alpha=0.3)\n",
    "        #plt.xlim(40, 60)\n",
    "        #plt.ylim(0, 130)\n",
    "        max_y = cleaned_data.PARAMETER_VALUE.max()\n",
    "        for s, v in zip(step_list, reset_boundary):\n",
    "            plt.axvline(v, color='black', alpha=0.3, linestyle='--')\n",
    "            plt.text(v-3, max_y, f'{int(s)}')\n",
    "\n",
    "        image_path = os.path.join('image', 'full_recipe_trace', f'{pname}_step{rs}_{start_row}_{start_col}.png')\n",
    "        plt.savefig(image_path)\n",
    "        start_row += 1\n",
    "        plt.show()"
   ]
  },
  {
   "cell_type": "markdown",
   "id": "a3b3db74-6f04-44b9-90b9-a89e8fe9d18b",
   "metadata": {},
   "source": [
    "# original version step trace figure save"
   ]
  },
  {
   "cell_type": "code",
   "execution_count": 3,
   "id": "42e9cf4b-640e-46cc-85b9-f4c695d58079",
   "metadata": {
    "collapsed": true,
    "jupyter": {
     "outputs_hidden": true
    },
    "tags": []
   },
   "outputs": [
    {
     "ename": "NameError",
     "evalue": "name 'df_list' is not defined",
     "output_type": "error",
     "traceback": [
      "\u001b[1;31m---------------------------------------------------------------------------\u001b[0m",
      "\u001b[1;31mNameError\u001b[0m                                 Traceback (most recent call last)",
      "\u001b[1;32m~\\AppData\\Local\\Temp/ipykernel_26760/1996360855.py\u001b[0m in \u001b[0;36m<module>\u001b[1;34m\u001b[0m\n\u001b[0;32m      2\u001b[0m \u001b[0mstart_col\u001b[0m \u001b[1;33m=\u001b[0m \u001b[1;36m5\u001b[0m\u001b[1;33m\u001b[0m\u001b[1;33m\u001b[0m\u001b[0m\n\u001b[0;32m      3\u001b[0m \u001b[1;33m\u001b[0m\u001b[0m\n\u001b[1;32m----> 4\u001b[1;33m \u001b[1;32mfor\u001b[0m \u001b[0mdf\u001b[0m\u001b[1;33m,\u001b[0m \u001b[0mp\u001b[0m \u001b[1;32min\u001b[0m \u001b[0mzip\u001b[0m\u001b[1;33m(\u001b[0m\u001b[0mdf_list\u001b[0m\u001b[1;33m,\u001b[0m \u001b[0mfn\u001b[0m\u001b[1;33m)\u001b[0m\u001b[1;33m:\u001b[0m\u001b[1;33m\u001b[0m\u001b[1;33m\u001b[0m\u001b[0m\n\u001b[0m\u001b[0;32m      5\u001b[0m     \u001b[0mdf\u001b[0m \u001b[1;33m=\u001b[0m \u001b[0mdf\u001b[0m\u001b[1;33m.\u001b[0m\u001b[0mcopy\u001b[0m\u001b[1;33m(\u001b[0m\u001b[1;33m)\u001b[0m\u001b[1;33m\u001b[0m\u001b[1;33m\u001b[0m\u001b[0m\n\u001b[0;32m      6\u001b[0m     \u001b[0mpname\u001b[0m \u001b[1;33m=\u001b[0m \u001b[0mp\u001b[0m\u001b[1;33m.\u001b[0m\u001b[0msplit\u001b[0m\u001b[1;33m(\u001b[0m\u001b[0mos\u001b[0m\u001b[1;33m.\u001b[0m\u001b[0msep\u001b[0m\u001b[1;33m)\u001b[0m\u001b[1;33m[\u001b[0m\u001b[1;33m-\u001b[0m\u001b[1;36m1\u001b[0m\u001b[1;33m]\u001b[0m\u001b[1;33m.\u001b[0m\u001b[0msplit\u001b[0m\u001b[1;33m(\u001b[0m\u001b[1;34m'.'\u001b[0m\u001b[1;33m)\u001b[0m\u001b[1;33m[\u001b[0m\u001b[1;36m0\u001b[0m\u001b[1;33m]\u001b[0m\u001b[1;33m\u001b[0m\u001b[1;33m\u001b[0m\u001b[0m\n",
      "\u001b[1;31mNameError\u001b[0m: name 'df_list' is not defined"
     ]
    }
   ],
   "source": [
    "start_row = 3\n",
    "start_col = 5\n",
    "\n",
    "for df, p in zip(df_list, fn):\n",
    "    df = df.copy()\n",
    "    pname = p.split(os.sep)[-1].split('.')[0]\n",
    "    \n",
    "    loader = AutoModelLoader('LOT_ID', 'WAFER_ID', 'PROCESS', 'PROCESS_STEP', 'RECIPE', 'RECIPE_STEP', 'PARAMETER_NAME', 'PARAMETER_VALUE', 'TIME', df)\n",
    "    df = loader.data_load()\n",
    "\n",
    "    # cleaner\n",
    "    step_list = list(np.sort(np.unique(df.RECIPE_STEP.values).astype(int)).astype('str'))\n",
    "    cleaner = AutoModelCleaner(config, df)\n",
    "    cleaned_data, global_stat = cleaner.get_cleaning_data()\n",
    "    \n",
    "    for rs in step_list:\n",
    "        cluster = AutoModelCluster(cleaned_data, global_stat, recipe_step=rs)\n",
    "        target_data = cluster.get_clustered_target_data()\n",
    "        \n",
    "        segmenter = AutoModelSegmenter(config, global_stat, target_data, 0)\n",
    "\n",
    "        wafer, seg = segmenter.get_data()\n",
    "        hough_angle = AutoModelAngleDetector(wafer, seg)\n",
    "        index_point = hough_angle.get_point()[0]\n",
    "\n",
    "        print(f'current step:{rs}\\n{index_point}')\n",
    "        plt.figure(figsize=(12,6))\n",
    "        plt.title(f\"{pname} step{rs}\\nstart{index_point['start']}, end{index_point['end']}\\ntype:{index_point['type']}\")\n",
    "        if index_point['start'] == -1: \n",
    "            new_target, _ = segmenter.get_data(is_ignore_undefined_count=False, norm=False)\n",
    "            for www in new_target:\n",
    "                plt.plot(www.PARAMETER_VALUE)\n",
    "        else:\n",
    "            wafer, _ = segmenter.get_data(norm=False)\n",
    "            #print(wafer)\n",
    "            for ww in wafer:\n",
    "                plt.plot(ww.PARAMETER_VALUE)\n",
    "                plt.plot(ww.loc[index_point['start']:index_point['end'], 'PARAMETER_VALUE'], color='purple', linewidth='3')\n",
    "        #plt.show()\n",
    "\n",
    "        image_path = os.path.join('image', 'original_version_recipe_step', f'{pname}_step{rs}_{start_row}_{start_col}.png')\n",
    "        plt.savefig(image_path)\n",
    "        start_row += 1\n",
    "        plt.show()"
   ]
  },
  {
   "cell_type": "markdown",
   "id": "f36184b3-7731-41c2-a80a-f5978833bd4d",
   "metadata": {},
   "source": [
    "# comparision figure save"
   ]
  },
  {
   "cell_type": "code",
   "execution_count": 5,
   "id": "985677d4-cfb4-4bc0-b5c8-eeb79151573f",
   "metadata": {},
   "outputs": [],
   "source": [
    "# 6번부터 시작"
   ]
  },
  {
   "cell_type": "code",
   "execution_count": null,
   "id": "ad97997b-9baf-4ab7-9713-08836bd62022",
   "metadata": {},
   "outputs": [],
   "source": [
    "def create_directory(directory_name):\n",
    "    # 디렉토리가 존재하지 않으면 생성\n",
    "    if not os.path.exists(directory_name):\n",
    "        os.makedirs(directory_name)\n",
    "        print(f\"Directory '{directory_name}' created.\")\n",
    "    else:\n",
    "        print(f\"Directory '{directory_name}' already exists.\")\n",
    "\n",
    "# 예시 사용법\n",
    "directory_name = \"example_directory\"\n",
    "create_directory(directory_name)"
   ]
  },
  {
   "cell_type": "code",
   "execution_count": 4,
   "id": "f2b75441-844d-4bc9-9fac-02aebb98b1a0",
   "metadata": {
    "collapsed": true,
    "jupyter": {
     "outputs_hidden": true
    },
    "tags": []
   },
   "outputs": [
    {
     "ename": "NameError",
     "evalue": "name 'os' is not defined",
     "output_type": "error",
     "traceback": [
      "\u001b[1;31m---------------------------------------------------------------------------\u001b[0m",
      "\u001b[1;31mNameError\u001b[0m                                 Traceback (most recent call last)",
      "\u001b[1;32m~\\AppData\\Local\\Temp/ipykernel_26760/3078156692.py\u001b[0m in \u001b[0;36m<module>\u001b[1;34m\u001b[0m\n\u001b[0;32m      3\u001b[0m \u001b[1;32mfor\u001b[0m \u001b[0mk\u001b[0m\u001b[1;33m,\u001b[0m \u001b[0mdir_name\u001b[0m \u001b[1;32min\u001b[0m \u001b[0menumerate\u001b[0m\u001b[1;33m(\u001b[0m\u001b[0mdir_name_list\u001b[0m\u001b[1;33m)\u001b[0m\u001b[1;33m:\u001b[0m\u001b[1;33m\u001b[0m\u001b[1;33m\u001b[0m\u001b[0m\n\u001b[0;32m      4\u001b[0m \u001b[1;33m\u001b[0m\u001b[0m\n\u001b[1;32m----> 5\u001b[1;33m     \u001b[1;32mif\u001b[0m \u001b[1;32mnot\u001b[0m \u001b[0mos\u001b[0m\u001b[1;33m.\u001b[0m\u001b[0mpath\u001b[0m\u001b[1;33m.\u001b[0m\u001b[0mexists\u001b[0m\u001b[1;33m(\u001b[0m\u001b[0mos\u001b[0m\u001b[1;33m.\u001b[0m\u001b[0mpath\u001b[0m\u001b[1;33m.\u001b[0m\u001b[0mjoin\u001b[0m\u001b[1;33m(\u001b[0m\u001b[1;34m'image'\u001b[0m\u001b[1;33m,\u001b[0m \u001b[0mdir_name\u001b[0m\u001b[1;33m)\u001b[0m\u001b[1;33m)\u001b[0m\u001b[1;33m:\u001b[0m\u001b[1;33m\u001b[0m\u001b[1;33m\u001b[0m\u001b[0m\n\u001b[0m\u001b[0;32m      6\u001b[0m         \u001b[0mos\u001b[0m\u001b[1;33m.\u001b[0m\u001b[0mmakedirs\u001b[0m\u001b[1;33m(\u001b[0m\u001b[0mos\u001b[0m\u001b[1;33m.\u001b[0m\u001b[0mpath\u001b[0m\u001b[1;33m.\u001b[0m\u001b[0mjoin\u001b[0m\u001b[1;33m(\u001b[0m\u001b[1;34m'image'\u001b[0m\u001b[1;33m,\u001b[0m \u001b[0mdir_name\u001b[0m\u001b[1;33m)\u001b[0m\u001b[1;33m)\u001b[0m\u001b[1;33m\u001b[0m\u001b[1;33m\u001b[0m\u001b[0m\n\u001b[0;32m      7\u001b[0m         \u001b[1;31m#rint(f\"Directory '{directory_name}' created.\")\u001b[0m\u001b[1;33m\u001b[0m\u001b[1;33m\u001b[0m\u001b[1;33m\u001b[0m\u001b[0m\n",
      "\u001b[1;31mNameError\u001b[0m: name 'os' is not defined"
     ]
    }
   ],
   "source": [
    "dir_name_list = ['ratio_1per', 'ratio_2per', 'ratio_3per', 'ratio_4per']\n",
    "\n",
    "for k, dir_name in enumerate(dir_name_list):\n",
    "\n",
    "    if not os.path.exists(os.path.join('image', dir_name)):\n",
    "        os.makedirs(os.path.join('image', dir_name))\n",
    "        #rint(f\"Directory '{directory_name}' created.\")\n",
    "    else:\n",
    "        print(f\"Directory '{dir_name}' already exists.\")\n",
    "    \n",
    "    version0 = 0\n",
    "    version1 = 1 + k\n",
    "\n",
    "    start_row = 3\n",
    "    start_col = 6 + k\n",
    "\n",
    "\n",
    "    for df, p in zip(df_list, fn):\n",
    "        df = df.copy()\n",
    "        pname = p.split(os.sep)[-1].split('.')[0]\n",
    "\n",
    "        loader = AutoModelLoader('LOT_ID', 'WAFER_ID', 'PROCESS', 'PROCESS_STEP', 'RECIPE', 'RECIPE_STEP', 'PARAMETER_NAME', 'PARAMETER_VALUE', 'TIME', df)\n",
    "        df = loader.data_load()\n",
    "\n",
    "        # cleaner\n",
    "        step_list = list(np.sort(np.unique(df.RECIPE_STEP.values).astype(int)).astype('str'))\n",
    "        cleaner = AutoModelCleaner(config, df)\n",
    "        cleaned_data, global_stat = cleaner.get_cleaning_data()\n",
    "\n",
    "        for rs in step_list:\n",
    "            cluster = AutoModelCluster(cleaned_data, global_stat, recipe_step=rs)\n",
    "            target_data = cluster.get_clustered_target_data()\n",
    "\n",
    "            segmenter0 = AutoModelSegmenter(config, global_stat, target_data, version0)\n",
    "            segmenter1 = AutoModelSegmenter(config, global_stat, target_data, version1)\n",
    "\n",
    "\n",
    "            wafer0, seg0 = segmenter0.get_data()\n",
    "            wafer1, seg1 = segmenter1.get_data()\n",
    "\n",
    "            hough_angle0 = AutoModelAngleDetector(wafer0, seg0)\n",
    "            hough_angle1 = AutoModelAngleDetector(wafer1, seg1)\n",
    "\n",
    "            index_point0 = hough_angle0.get_point()[0]\n",
    "            index_point1 = hough_angle1.get_point()[0]\n",
    "\n",
    "            if index_point0 != index_point1:\n",
    "                i = 1\n",
    "                #print(f\"original type:{index_point0['type']}\")\n",
    "                #print(f\"new type:{index_point1['type']}\")\n",
    "                index_point_list = [index_point0, index_point1]\n",
    "                segmenter_list = [segmenter0, segmenter1]\n",
    "                #wafer_list = [wafer0, wafer1]\n",
    "\n",
    "                #for i in range(2):\n",
    "                index_point = index_point_list[i]\n",
    "                segmenter = segmenter_list[i]\n",
    "                #wafer = wafer_list[i]\n",
    "\n",
    "                #fig, ax = plt.subplots(1,3, figsize=(24,5))\n",
    "                plt.figure(figsize=(12,6))\n",
    "                plt.title(f\"{pname} new version step{rs}\\nstart{index_point['start']}, end{index_point['end']}\\ntype:{index_point['type']}\")\n",
    "                if index_point['start'] == -1: \n",
    "                    new_target, _ = segmenter.get_data(is_ignore_undefined_count=False)\n",
    "                    for www in new_target:\n",
    "                        plt.plot(www.PARAMETER_VALUE)\n",
    "                else:\n",
    "                    wafer, _ = segmenter.get_data(norm=False)\n",
    "                    #print(wafer)\n",
    "                    for ww in wafer:\n",
    "                        plt.plot(ww.PARAMETER_VALUE)\n",
    "                        plt.plot(ww.loc[index_point['start']:index_point['end'], 'PARAMETER_VALUE'], color='purple', linewidth='3')\n",
    "                image_path = os.path.join('image', dir_name, f'{pname}_step{rs}_{start_row}_{start_col}.png')\n",
    "                plt.savefig(image_path)\n",
    "                plt.show()\n",
    "\n",
    "\n",
    "    #                 hough_result = segmenter.result\n",
    "    #                 hough_result = hough_result[hough_result['type'] != 'UNDEFINED']\n",
    "\n",
    "    #                 ax[1].set_title(f\"new version histogram start\")\n",
    "    #                 ax[1].hist(hough_result.loc[:,'start'], edgecolor='black')\n",
    "\n",
    "    #                 ax[2].set_title(f\"new version histogram end\")\n",
    "    #                 ax[2].hist(hough_result.loc[:,'end'], edgecolor='black')\n",
    "\n",
    "            else:\n",
    "                print(f\"start:{index_point0['start']}, end:{index_point0['end']}, type:{index_point0['type']}\")\n",
    "                print('no difference\\n')\n",
    "            start_row += 1"
   ]
  },
  {
   "cell_type": "code",
   "execution_count": 102,
   "id": "02356868-83a3-428d-869c-dce98ddcd112",
   "metadata": {},
   "outputs": [
    {
     "name": "stdout",
     "output_type": "stream",
     "text": [
      "C:\\Users\\austinp\\OneDrive - Synopsys, Inc\\Data\\FDC\\dataset\\case1.csv\n"
     ]
    }
   ],
   "source": [
    "i = 0\n",
    "rs = '1'\n",
    "print(fn[i])\n",
    "\n",
    "df = df_list[i].copy()\n",
    "pname = fn[i].split(os.sep)[-1].split('.')[0]\n",
    "#df = df_list[i].copy()"
   ]
  },
  {
   "cell_type": "code",
   "execution_count": 103,
   "id": "44139ebf-77aa-4038-9004-5ede7d166586",
   "metadata": {},
   "outputs": [],
   "source": [
    "loader = AutoModelLoader('LOT_ID', 'WAFER_ID', 'PROCESS', 'PROCESS_STEP', 'RECIPE', 'RECIPE_STEP', 'PARAMETER_NAME', 'PARAMETER_VALUE', 'TIME', df)\n",
    "df = loader.data_load()\n",
    "\n",
    "# cleaner\n",
    "step_list = list(np.sort(np.unique(df.RECIPE_STEP.values).astype(int)).astype('str'))\n",
    "cleaner = AutoModelCleaner(config, df)\n",
    "cleaned_data, global_stat = cleaner.get_cleaning_data()\n",
    "\n",
    "# align all wafer\n",
    "reset_data, reset_boundary = reset_index(cleaned_data, step_list)\n",
    "\n",
    "# cluster\n",
    "cluster = AutoModelCluster(cleaned_data, global_stat, recipe_step=rs)\n",
    "target_data = cluster.get_clustered_target_data()"
   ]
  },
  {
   "cell_type": "code",
   "execution_count": 109,
   "id": "20b3b423-624a-4959-8668-827391683376",
   "metadata": {},
   "outputs": [
    {
     "data": {
      "text/plain": [
       "'image\\\\full_recipe_trace\\\\case1_rs:1_3_2.png'"
      ]
     },
     "execution_count": 109,
     "metadata": {},
     "output_type": "execute_result"
    }
   ],
   "source": [
    "image_path"
   ]
  },
  {
   "cell_type": "code",
   "execution_count": 5,
   "id": "c5d36abb-6f74-4d89-8492-f2270f152a36",
   "metadata": {
    "tags": []
   },
   "outputs": [
    {
     "ename": "NameError",
     "evalue": "name 'plt' is not defined",
     "output_type": "error",
     "traceback": [
      "\u001b[1;31m---------------------------------------------------------------------------\u001b[0m",
      "\u001b[1;31mNameError\u001b[0m                                 Traceback (most recent call last)",
      "\u001b[1;32m~\\AppData\\Local\\Temp/ipykernel_26760/2416432303.py\u001b[0m in \u001b[0;36m<module>\u001b[1;34m\u001b[0m\n\u001b[0;32m      2\u001b[0m \u001b[0mstart_col\u001b[0m \u001b[1;33m=\u001b[0m \u001b[1;36m2\u001b[0m\u001b[1;33m\u001b[0m\u001b[1;33m\u001b[0m\u001b[0m\n\u001b[0;32m      3\u001b[0m \u001b[1;33m\u001b[0m\u001b[0m\n\u001b[1;32m----> 4\u001b[1;33m \u001b[0mplt\u001b[0m\u001b[1;33m.\u001b[0m\u001b[0mfigure\u001b[0m\u001b[1;33m(\u001b[0m\u001b[0mfigsize\u001b[0m\u001b[1;33m=\u001b[0m\u001b[1;33m(\u001b[0m\u001b[1;36m12\u001b[0m\u001b[1;33m,\u001b[0m\u001b[1;36m6\u001b[0m\u001b[1;33m)\u001b[0m\u001b[1;33m)\u001b[0m\u001b[1;33m\u001b[0m\u001b[1;33m\u001b[0m\u001b[0m\n\u001b[0m\u001b[0;32m      5\u001b[0m \u001b[0mplt\u001b[0m\u001b[1;33m.\u001b[0m\u001b[0mtitle\u001b[0m\u001b[1;33m(\u001b[0m\u001b[1;34mf'{pname}'\u001b[0m\u001b[1;33m)\u001b[0m\u001b[1;33m\u001b[0m\u001b[1;33m\u001b[0m\u001b[0m\n\u001b[0;32m      6\u001b[0m \u001b[1;32mfor\u001b[0m \u001b[0md\u001b[0m \u001b[1;32min\u001b[0m \u001b[0mreset_data\u001b[0m\u001b[1;33m:\u001b[0m\u001b[1;33m\u001b[0m\u001b[1;33m\u001b[0m\u001b[0m\n",
      "\u001b[1;31mNameError\u001b[0m: name 'plt' is not defined"
     ]
    }
   ],
   "source": [
    "start_row = 3\n",
    "start_col = 2\n",
    "\n",
    "plt.figure(figsize=(12,6))\n",
    "plt.title(f'{pname}')\n",
    "for d in reset_data:\n",
    "    #print(d.identifier.unique())\n",
    "    # if d.identifier.unique()[0] == '1922206_1922206.20':\n",
    "    #     plt.plot(d.PARAMETER_VALUE, marker='o', color='red', linewidth=3, zorder=100)\n",
    "    plt.plot(d.PARAMETER_VALUE)\n",
    "for v in reset_boundary:\n",
    "    plt.axvline(v, color='black', alpha=0.3)\n",
    "#plt.xlim(40, 60)\n",
    "#plt.ylim(0, 130)\n",
    "max_y = cleaned_data.PARAMETER_VALUE.max()\n",
    "for s, v in zip(step_list, reset_boundary):\n",
    "    plt.axvline(v, color='black', alpha=0.3, linestyle='--')\n",
    "    plt.text(v-3, max_y, f'{int(s)}')\n",
    "\n",
    "image_path = os.path.join('image', 'full_recipe_trace', f'{pname}_step{rs}_{start_row}_{start_col}.png')\n",
    "plt.savefig(image_path)\n",
    "plt.show()"
   ]
  },
  {
   "cell_type": "code",
   "execution_count": 6,
   "id": "ed1c100d-7bb4-4bf1-9e3d-3ddbeab6c5bd",
   "metadata": {},
   "outputs": [
    {
     "ename": "NameError",
     "evalue": "name 'step_list' is not defined",
     "output_type": "error",
     "traceback": [
      "\u001b[1;31m---------------------------------------------------------------------------\u001b[0m",
      "\u001b[1;31mNameError\u001b[0m                                 Traceback (most recent call last)",
      "\u001b[1;32m~\\AppData\\Local\\Temp/ipykernel_26760/567982270.py\u001b[0m in \u001b[0;36m<module>\u001b[1;34m\u001b[0m\n\u001b[1;32m----> 1\u001b[1;33m \u001b[1;32mfor\u001b[0m \u001b[0mrs\u001b[0m \u001b[1;32min\u001b[0m \u001b[0mstep_list\u001b[0m\u001b[1;33m:\u001b[0m\u001b[1;33m\u001b[0m\u001b[1;33m\u001b[0m\u001b[0m\n\u001b[0m\u001b[0;32m      2\u001b[0m     \u001b[0mcluster\u001b[0m \u001b[1;33m=\u001b[0m \u001b[0mAutoModelCluster\u001b[0m\u001b[1;33m(\u001b[0m\u001b[0mcleaned_data\u001b[0m\u001b[1;33m,\u001b[0m \u001b[0mglobal_stat\u001b[0m\u001b[1;33m,\u001b[0m \u001b[0mrecipe_step\u001b[0m\u001b[1;33m=\u001b[0m\u001b[0mrs\u001b[0m\u001b[1;33m)\u001b[0m\u001b[1;33m\u001b[0m\u001b[1;33m\u001b[0m\u001b[0m\n\u001b[0;32m      3\u001b[0m     \u001b[0mtarget_data\u001b[0m \u001b[1;33m=\u001b[0m \u001b[0mcluster\u001b[0m\u001b[1;33m.\u001b[0m\u001b[0mget_clustered_target_data\u001b[0m\u001b[1;33m(\u001b[0m\u001b[1;33m)\u001b[0m\u001b[1;33m\u001b[0m\u001b[1;33m\u001b[0m\u001b[0m\n\u001b[0;32m      4\u001b[0m     \u001b[1;31m#cluster_end = time.time()\u001b[0m\u001b[1;33m\u001b[0m\u001b[1;33m\u001b[0m\u001b[1;33m\u001b[0m\u001b[0m\n\u001b[0;32m      5\u001b[0m \u001b[1;33m\u001b[0m\u001b[0m\n",
      "\u001b[1;31mNameError\u001b[0m: name 'step_list' is not defined"
     ]
    }
   ],
   "source": [
    "for rs in step_list:\n",
    "    cluster = AutoModelCluster(cleaned_data, global_stat, recipe_step=rs)\n",
    "    target_data = cluster.get_clustered_target_data()\n",
    "    #cluster_end = time.time()\n",
    "\n",
    "    #segmenter_start = time.time()\n",
    "    segmenter = AutoModelSegmenter(config, global_stat, target_data, 0)\n",
    "\n",
    "\n",
    "    wafer, seg = segmenter.get_data()\n",
    "\n",
    "    hough_angle = AutoModelAngleDetector(wafer, seg)\n",
    "\n",
    "    index_point = hough_angle.get_point()[0]\n",
    "\n",
    "\n",
    "    #fig, ax = plt.subplots(1,3, figsize=(24,5))\n",
    "    print(f'current step:{rs}\\n{index_point}')\n",
    "    plt.title(f\"{pname} step{rs}\\nstart{index_point['start']}, end{index_point['end']}\")\n",
    "    if index_point['start'] == -1: \n",
    "        new_target, _ = segmenter.get_data(is_ignore_undefined_count=False, norm=False)\n",
    "        for www in new_target:\n",
    "            plt.plot(www.PARAMETER_VALUE)\n",
    "    else:\n",
    "        wafer, _ = segmenter.get_data(norm=False)\n",
    "        #print(wafer)\n",
    "        for ww in wafer:\n",
    "            plt.plot(ww.PARAMETER_VALUE)\n",
    "            plt.plot(ww.loc[index_point['start']:index_point['end'], 'PARAMETER_VALUE'], color='purple', linewidth='3')\n",
    "    plt.show()\n",
    "#     hough_result = segmenter.result\n",
    "#     hough_result = hough_result[hough_result['type'] != 'UNDEFINED']\n",
    "\n",
    "#     plt.title(f\"histogram start\")\n",
    "#     plt.hist(hough_result.loc[:,'start'], edgecolor='black')\n",
    "#     plt.show()\n",
    "#     plt.title(f\"histogram end\")\n",
    "#     plt.hist(hough_result.loc[:,'end'], edgecolor='black')\n",
    "#     plt.show()"
   ]
  },
  {
   "cell_type": "markdown",
   "id": "497237c6-859f-42a5-8c66-cff1e96669c0",
   "metadata": {},
   "source": [
    "# excel save"
   ]
  },
  {
   "cell_type": "code",
   "execution_count": 11,
   "id": "257641eb-b5f5-45f5-9e82-514c858ebaaf",
   "metadata": {},
   "outputs": [],
   "source": [
    "wb = xl_load('base.xlsx')\n",
    "ws = wb.active"
   ]
  },
  {
   "cell_type": "code",
   "execution_count": 7,
   "id": "1d19dff2-3f52-48cb-a72c-2f006e80e578",
   "metadata": {},
   "outputs": [],
   "source": [
    "#image_path = glob(os.path.join('image', 'full_recipe_trace', '*.png'))\n",
    "#image_path = glob(os.path.join('image', 'original_version_recipe_step', '*.png'))\n",
    "#image_path = glob(os.path.join('image', 'version1_recipe_step', '*.png'))\n",
    "#image_path = glob(os.path.join('image', 'version2_recipe_step', '*.png'))\n",
    "image_path = glob(os.path.join('image', dir_name, '*.png'))"
   ]
  },
  {
   "cell_type": "code",
   "execution_count": 10,
   "id": "9b3d30c3-1944-4f15-b460-d52c71ca58df",
   "metadata": {},
   "outputs": [],
   "source": [
    "from openpyxl.styles import Alignment"
   ]
  },
  {
   "cell_type": "markdown",
   "id": "04041cd9-94f0-401a-a861-682743ca8933",
   "metadata": {},
   "source": [
    "# write case num / recipe step only"
   ]
  },
  {
   "cell_type": "code",
   "execution_count": 12,
   "id": "3d3df917-32d1-49c4-9147-4ffd574ba45a",
   "metadata": {},
   "outputs": [],
   "source": [
    "for p in image_path:\n",
    "    case_num = p.split(os.sep)[-1].split('_')[0]\n",
    "    step = p.split(os.sep)[-1].split('_')[-3]\n",
    "    row_num = p.split(os.sep)[-1].split('_')[-2]\n",
    "    col_num = p.split(os.sep)[-1].split('_')[-1].split('.')[0]\n",
    "    \n",
    "    row_num = int(row_num)\n",
    "    #col_num = int(col_num)\n",
    "    \n",
    "    # write case_num\n",
    "    cell_num = f'{get_column_letter(1)}{row_num}'\n",
    "    ws[cell_num] = case_num\n",
    "\n",
    "    ws[cell_num].alignment = Alignment(horizontal='center', vertical='center')\n",
    "    \n",
    "    # write recipe step\n",
    "    cell_num = f'{get_column_letter(3)}{row_num}'\n",
    "    ws[cell_num] = step\n",
    "\n",
    "    ws[cell_num].alignment = Alignment(horizontal='center', vertical='center')\n",
    "\n",
    "\n",
    "\n",
    "wb.save('base.xlsx')\n",
    "wb.close()"
   ]
  },
  {
   "cell_type": "markdown",
   "id": "e9f1e2e0-ade5-4898-b6ec-4e38b5e27891",
   "metadata": {},
   "source": [
    "# full recipe / original recipe save only"
   ]
  },
  {
   "cell_type": "code",
   "execution_count": 16,
   "id": "0e62aea4-fc77-4c92-81ef-0f5c1856c578",
   "metadata": {},
   "outputs": [],
   "source": [
    "for p in image_path:\n",
    "    case_num = p.split(os.sep)[-1].split('_')[0]\n",
    "    step = p.split(os.sep)[-1].split('_')[-3]\n",
    "    row_num = p.split(os.sep)[-1].split('_')[-2]\n",
    "    col_num = p.split(os.sep)[-1].split('_')[-1].split('.')[0]\n",
    "    \n",
    "    row_num = int(row_num)\n",
    "    col_num = int(col_num)\n",
    "    \n",
    "    img = Image(p)\n",
    "    #img_width, img_height = img.width, img.height\n",
    "    img.width, img.height = 506, 272\n",
    "    \n",
    "    #excel_col_width = img_width * 0.11\n",
    "    #excel_row_height = img_height * 0.72\n",
    "    excel_col_width = 63.36\n",
    "    excel_row_height = 207.36\n",
    "    \n",
    "    # Set the column width and row height to fit the image\n",
    "    ws.column_dimensions[get_column_letter(col_num)].width = excel_col_width\n",
    "    ws.row_dimensions[row_num].height = excel_row_height\n",
    "\n",
    "    # Add the image to the sheet\n",
    "    img.anchor = f'{get_column_letter(col_num)}{row_num}'  # Example: 'A1'\n",
    "    ws.add_image(img)\n",
    "    \n",
    "    #ws.add_image(img, f'E{start_row}')\n",
    "    \n",
    "    #start_row += 1\n",
    "\n",
    "wb.save('base.xlsx')\n",
    "wb.close()"
   ]
  },
  {
   "cell_type": "markdown",
   "id": "9237f8c8-1329-4994-ab9c-acc495a01bda",
   "metadata": {},
   "source": [
    "# compare elxcel save"
   ]
  },
  {
   "cell_type": "code",
   "execution_count": null,
   "id": "7e703aed-44bb-407d-9f4c-7836ae10b366",
   "metadata": {},
   "outputs": [],
   "source": [
    "dir_name_list"
   ]
  },
  {
   "cell_type": "code",
   "execution_count": null,
   "id": "3309eadd-f8e5-445f-896e-311d2fa6cffa",
   "metadata": {},
   "outputs": [],
   "source": [
    "image_path = glob(os.path.join('image', dir_name, '*.png'))"
   ]
  },
  {
   "cell_type": "code",
   "execution_count": 12,
   "id": "0091ea2e-d283-487c-9784-7d1363e6bbf4",
   "metadata": {},
   "outputs": [],
   "source": [
    "for dir_name in dir_name_list:\n",
    "    \n",
    "    image_path = glob(os.path.join('image', dir_name, '*.png'))\n",
    "    row_num_list = []\n",
    "    \n",
    "    for p in image_path:\n",
    "        case_num = p.split(os.sep)[-1].split('_')[0]\n",
    "        step = p.split(os.sep)[-1].split('_')[-3]\n",
    "        row_num = p.split(os.sep)[-1].split('_')[-2]\n",
    "        col_num = p.split(os.sep)[-1].split('_')[-1].split('.')[0]\n",
    "\n",
    "        row_num = int(row_num)\n",
    "        col_num = int(col_num)\n",
    "        row_num_list.append(row_num)\n",
    "\n",
    "        img = Image(p)\n",
    "        #img_width, img_height = img.width, img.height\n",
    "        img.width, img.height = 506, 272\n",
    "\n",
    "        #excel_col_width = img_width * 0.11\n",
    "        #excel_row_height = img_height * 0.72\n",
    "        excel_col_width = 63.36\n",
    "        excel_row_height = 207.36\n",
    "\n",
    "        # Set the column width and row height to fit the image\n",
    "        ws.column_dimensions[get_column_letter(col_num)].width = excel_col_width\n",
    "        ws.row_dimensions[row_num].height = excel_row_height\n",
    "\n",
    "        # Add the image to the sheet\n",
    "        img.anchor = f'{get_column_letter(col_num)}{row_num}'  # Example: 'A1'\n",
    "        ws.add_image(img)\n",
    "\n",
    "            #ws.add_image(img, f'E{start_row}')\n",
    "    for start_row in range(3,174+1):\n",
    "        cell_num = f'{get_column_letter(col_num)}{start_row}'\n",
    "        if start_row in row_num_list:\n",
    "            ws[cell_num] = 'diff'\n",
    "        else:\n",
    "            ws[cell_num] = 'same'\n",
    "\n",
    "        ws[cell_num].alignment = Alignment(horizontal='center', vertical='center')\n",
    "\n",
    "\n",
    "\n",
    "    wb.save('range_experiment.xlsx')\n",
    "    wb.close()"
   ]
  },
  {
   "cell_type": "code",
   "execution_count": null,
   "id": "2416066f-df58-4e58-84ec-9be85654fdab",
   "metadata": {},
   "outputs": [],
   "source": [
    "ws['A1'].alignment = Alignment(horizontal='center', vertical='center')"
   ]
  }
 ],
 "metadata": {
  "kernelspec": {
   "display_name": "Python 3 (ipykernel)",
   "language": "python",
   "name": "python3"
  },
  "language_info": {
   "codemirror_mode": {
    "name": "ipython",
    "version": 3
   },
   "file_extension": ".py",
   "mimetype": "text/x-python",
   "name": "python",
   "nbconvert_exporter": "python",
   "pygments_lexer": "ipython3",
   "version": "3.8.12"
  }
 },
 "nbformat": 4,
 "nbformat_minor": 5
}
