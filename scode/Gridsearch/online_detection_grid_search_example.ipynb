{
 "cells": [
  {
   "cell_type": "code",
   "execution_count": 31,
   "id": "32d8bafa-7fb3-4f44-aef4-ea31ab9c7bbd",
   "metadata": {},
   "outputs": [
    {
     "name": "stdout",
     "output_type": "stream",
     "text": [
      "The autoreload extension is already loaded. To reload it, use:\n",
      "  %reload_ext autoreload\n"
     ]
    }
   ],
   "source": [
    "%load_ext autoreload\n",
    "%autoreload 2\n",
    "\n",
    "import sys\n",
    "import os\n",
    "import time\n",
    "\n",
    "import numpy as np\n",
    "import pandas as pd\n",
    "import matplotlib.pyplot as plt\n",
    "%matplotlib inline\n",
    "import plotly.express as px\n",
    "\n",
    "# sdt_path = \"..\"\n",
    "# if sdt_path not in sys.path:\n",
    "#     sys.path.insert(1, sdt_path)\n",
    "sys.path.append(os.path.dirname(os.path.dirname(os.path.abspath('__file__'))))\n",
    "\n",
    "from functools import partial\n",
    "from tqdm import tqdm\n",
    "\n",
    "import utils\n",
    "\n",
    "from bayesian_github.bayesian_changepoint_detection.priors import const_prior\n",
    "from bayesian_github.bayesian_changepoint_detection.bayesian_models import online_changepoint_detection\n",
    "import bayesian_github.bayesian_changepoint_detection.online_likelihoods as online_ll\n",
    "from bayesian_github.bayesian_changepoint_detection.hazard_functions import constant_hazard"
   ]
  },
  {
   "cell_type": "markdown",
   "id": "a797537b-1e74-4882-9833-138bc0bc3a56",
   "metadata": {},
   "source": [
    "# data load"
   ]
  },
  {
   "cell_type": "code",
   "execution_count": 3,
   "id": "7e89f714-ec72-4581-b120-73439c01c194",
   "metadata": {},
   "outputs": [],
   "source": [
    "from glob import glob\n",
    "\n",
    "#path = glob(os.path.join('..', 'Data', 'NXP', '*.csv'))\n",
    "path = glob(os.path.join('..', 'Data', 'case*.csv'))\n",
    "\n",
    "data = utils.load_data(path)"
   ]
  },
  {
   "cell_type": "code",
   "execution_count": 3,
   "id": "39a8b93f-1e92-4341-8629-5ea22d0bbfc2",
   "metadata": {},
   "outputs": [
    {
     "data": {
      "text/plain": [
       "['..\\\\Data\\\\case06.csv',\n",
       " '..\\\\Data\\\\case07.csv',\n",
       " '..\\\\Data\\\\case08.csv',\n",
       " '..\\\\Data\\\\case13.csv',\n",
       " '..\\\\Data\\\\case14.csv',\n",
       " '..\\\\Data\\\\case15.csv',\n",
       " '..\\\\Data\\\\case16.csv',\n",
       " '..\\\\Data\\\\case18.csv',\n",
       " '..\\\\Data\\\\case19.csv',\n",
       " '..\\\\Data\\\\case21.csv',\n",
       " '..\\\\Data\\\\case22.csv',\n",
       " '..\\\\Data\\\\case23.csv',\n",
       " '..\\\\Data\\\\case24.csv',\n",
       " '..\\\\Data\\\\case25.csv',\n",
       " '..\\\\Data\\\\case26.csv',\n",
       " '..\\\\Data\\\\case32.csv',\n",
       " '..\\\\Data\\\\case34.csv',\n",
       " '..\\\\Data\\\\case35.csv',\n",
       " '..\\\\Data\\\\case36.csv',\n",
       " '..\\\\Data\\\\case37.csv']"
      ]
     },
     "execution_count": 3,
     "metadata": {},
     "output_type": "execute_result"
    }
   ],
   "source": [
    "path"
   ]
  },
  {
   "cell_type": "markdown",
   "id": "a725c0a9-50b0-4a9a-ad69-94b179fb9eb2",
   "metadata": {},
   "source": [
    "# Label list"
   ]
  },
  {
   "cell_type": "code",
   "execution_count": 6,
   "id": "9a2b57e3-9500-4058-9ee7-3f52fefe83a9",
   "metadata": {},
   "outputs": [],
   "source": [
    "label_list = utils.load_label_list()"
   ]
  },
  {
   "cell_type": "markdown",
   "id": "1048d490-6219-4b57-ba84-322ab7a1028e",
   "metadata": {},
   "source": [
    "# online full example"
   ]
  },
  {
   "cell_type": "code",
   "execution_count": 1,
   "id": "818ebce7-5901-405a-87c3-c72d7f38d5d9",
   "metadata": {
    "tags": []
   },
   "outputs": [
    {
     "ename": "NameError",
     "evalue": "name 'utils' is not defined",
     "output_type": "error",
     "traceback": [
      "\u001b[1;31m---------------------------------------------------------------------------\u001b[0m",
      "\u001b[1;31mNameError\u001b[0m                                 Traceback (most recent call last)",
      "\u001b[1;32m~\\AppData\\Local\\Temp/ipykernel_12492/3650362903.py\u001b[0m in \u001b[0;36m<module>\u001b[1;34m\u001b[0m\n\u001b[1;32m----> 1\u001b[1;33m \u001b[0mutils\u001b[0m\u001b[1;33m.\u001b[0m\u001b[0mdraw_online_example\u001b[0m\u001b[1;33m(\u001b[0m\u001b[0mdata\u001b[0m\u001b[1;33m,\u001b[0m \u001b[0mpath\u001b[0m\u001b[1;33m,\u001b[0m \u001b[0mnum_row\u001b[0m\u001b[1;33m=\u001b[0m\u001b[1;36m4\u001b[0m\u001b[1;33m)\u001b[0m\u001b[1;33m\u001b[0m\u001b[1;33m\u001b[0m\u001b[0m\n\u001b[0m",
      "\u001b[1;31mNameError\u001b[0m: name 'utils' is not defined"
     ]
    }
   ],
   "source": [
    "utils.draw_online_example(data, path, num_row=4)"
   ]
  },
  {
   "cell_type": "markdown",
   "id": "8bc658c3-e302-459b-948d-7de1f08a2f7e",
   "metadata": {},
   "source": [
    "# online grid search"
   ]
  },
  {
   "cell_type": "code",
   "execution_count": 14,
   "id": "7b16995b-d284-4f6a-9cc0-45f5d88b42bd",
   "metadata": {},
   "outputs": [],
   "source": [
    "param_grid = {'past': [3],\n",
    "              'threshold': np.arange(0.1, 1, 0.5),\n",
    "              'normalize': [2],\n",
    "              'kappa': np.arange(0, 1.1, 0.5),\n",
    "              'alpha': [0.1],\n",
    "              'beta': [0.1],\n",
    "              'mu': [0]}"
   ]
  },
  {
   "cell_type": "code",
   "execution_count": 15,
   "id": "0ba9c400-1f8f-4f22-ab22-316f66d5eb85",
   "metadata": {},
   "outputs": [
    {
     "name": "stderr",
     "output_type": "stream",
     "text": [
      "20it [00:05,  3.97it/s]\n"
     ]
    }
   ],
   "source": [
    "grid = utils.grid_search(data, label_list, param_grid)"
   ]
  },
  {
   "cell_type": "markdown",
   "id": "1fcc953b-1f39-4b13-96a5-4bf698a3006e",
   "metadata": {},
   "source": [
    "# score aggregation"
   ]
  },
  {
   "cell_type": "code",
   "execution_count": 28,
   "id": "a3d34777-abb0-418d-a5b6-b2d91966a810",
   "metadata": {},
   "outputs": [],
   "source": [
    "example1 = pd.DataFrame(grid[1])\n",
    "example = example1.copy()\n",
    "example['cos'] = 0\n",
    "cv_result = []\n",
    "for case in grid:\n",
    "    cv_temp = pd.DataFrame(case).fillna(0)\n",
    "    #cv_temp = cv_temp.iloc[:,[0,1,3,4,5,2]]\n",
    "    example['cos'] = cv_temp['cos'].values + example['cos'].values\n",
    "    cv_result.append(cv_temp)\n",
    "    \n",
    "example['cos'] = example['cos'] / len(grid)"
   ]
  },
  {
   "cell_type": "code",
   "execution_count": 29,
   "id": "ace82e24-1866-4673-a0f6-7f3df55788e3",
   "metadata": {},
   "outputs": [
    {
     "data": {
      "text/html": [
       "<div>\n",
       "<style scoped>\n",
       "    .dataframe tbody tr th:only-of-type {\n",
       "        vertical-align: middle;\n",
       "    }\n",
       "\n",
       "    .dataframe tbody tr th {\n",
       "        vertical-align: top;\n",
       "    }\n",
       "\n",
       "    .dataframe thead th {\n",
       "        text-align: right;\n",
       "    }\n",
       "</style>\n",
       "<table border=\"1\" class=\"dataframe\">\n",
       "  <thead>\n",
       "    <tr style=\"text-align: right;\">\n",
       "      <th></th>\n",
       "      <th>past</th>\n",
       "      <th>threshold</th>\n",
       "      <th>norm</th>\n",
       "      <th>kappa</th>\n",
       "      <th>alpha</th>\n",
       "      <th>beta</th>\n",
       "      <th>mu</th>\n",
       "      <th>cos</th>\n",
       "    </tr>\n",
       "  </thead>\n",
       "  <tbody>\n",
       "    <tr>\n",
       "      <th>2</th>\n",
       "      <td>3</td>\n",
       "      <td>0.1</td>\n",
       "      <td>2</td>\n",
       "      <td>0.5</td>\n",
       "      <td>0.1</td>\n",
       "      <td>0.1</td>\n",
       "      <td>0</td>\n",
       "      <td>0.443206</td>\n",
       "    </tr>\n",
       "    <tr>\n",
       "      <th>5</th>\n",
       "      <td>3</td>\n",
       "      <td>0.6</td>\n",
       "      <td>2</td>\n",
       "      <td>1.0</td>\n",
       "      <td>0.1</td>\n",
       "      <td>0.1</td>\n",
       "      <td>0</td>\n",
       "      <td>0.443145</td>\n",
       "    </tr>\n",
       "    <tr>\n",
       "      <th>3</th>\n",
       "      <td>3</td>\n",
       "      <td>0.6</td>\n",
       "      <td>2</td>\n",
       "      <td>0.5</td>\n",
       "      <td>0.1</td>\n",
       "      <td>0.1</td>\n",
       "      <td>0</td>\n",
       "      <td>0.438676</td>\n",
       "    </tr>\n",
       "    <tr>\n",
       "      <th>4</th>\n",
       "      <td>3</td>\n",
       "      <td>0.1</td>\n",
       "      <td>2</td>\n",
       "      <td>1.0</td>\n",
       "      <td>0.1</td>\n",
       "      <td>0.1</td>\n",
       "      <td>0</td>\n",
       "      <td>0.419061</td>\n",
       "    </tr>\n",
       "    <tr>\n",
       "      <th>0</th>\n",
       "      <td>3</td>\n",
       "      <td>0.1</td>\n",
       "      <td>2</td>\n",
       "      <td>0.0</td>\n",
       "      <td>0.1</td>\n",
       "      <td>0.1</td>\n",
       "      <td>0</td>\n",
       "      <td>0.000000</td>\n",
       "    </tr>\n",
       "    <tr>\n",
       "      <th>1</th>\n",
       "      <td>3</td>\n",
       "      <td>0.6</td>\n",
       "      <td>2</td>\n",
       "      <td>0.0</td>\n",
       "      <td>0.1</td>\n",
       "      <td>0.1</td>\n",
       "      <td>0</td>\n",
       "      <td>0.000000</td>\n",
       "    </tr>\n",
       "  </tbody>\n",
       "</table>\n",
       "</div>"
      ],
      "text/plain": [
       "   past  threshold  norm  kappa  alpha  beta  mu       cos\n",
       "2     3        0.1     2    0.5    0.1   0.1   0  0.443206\n",
       "5     3        0.6     2    1.0    0.1   0.1   0  0.443145\n",
       "3     3        0.6     2    0.5    0.1   0.1   0  0.438676\n",
       "4     3        0.1     2    1.0    0.1   0.1   0  0.419061\n",
       "0     3        0.1     2    0.0    0.1   0.1   0  0.000000\n",
       "1     3        0.6     2    0.0    0.1   0.1   0  0.000000"
      ]
     },
     "execution_count": 29,
     "metadata": {},
     "output_type": "execute_result"
    }
   ],
   "source": [
    "example.sort_values(by='cos', ascending=False)"
   ]
  },
  {
   "cell_type": "code",
   "execution_count": 2,
   "id": "2c794efb-ec67-4986-a3c8-c58622fccc18",
   "metadata": {},
   "outputs": [
    {
     "ename": "NameError",
     "evalue": "name 'px' is not defined",
     "output_type": "error",
     "traceback": [
      "\u001b[1;31m---------------------------------------------------------------------------\u001b[0m",
      "\u001b[1;31mNameError\u001b[0m                                 Traceback (most recent call last)",
      "\u001b[1;32m~\\AppData\\Local\\Temp/ipykernel_12492/3064286511.py\u001b[0m in \u001b[0;36m<module>\u001b[1;34m\u001b[0m\n\u001b[1;32m----> 1\u001b[1;33m fig = px.parallel_coordinates(example.copy(),\n\u001b[0m\u001b[0;32m      2\u001b[0m                               \u001b[0mcolor\u001b[0m\u001b[1;33m=\u001b[0m\u001b[1;34m\"cos\"\u001b[0m\u001b[1;33m,\u001b[0m\u001b[1;33m\u001b[0m\u001b[1;33m\u001b[0m\u001b[0m\n\u001b[0;32m      3\u001b[0m                               \u001b[0mlabels\u001b[0m\u001b[1;33m=\u001b[0m\u001b[1;33m{\u001b[0m\u001b[1;34m'cos'\u001b[0m\u001b[1;33m:\u001b[0m\u001b[1;34m'score'\u001b[0m\u001b[1;33m}\u001b[0m\u001b[1;33m,\u001b[0m\u001b[1;33m\u001b[0m\u001b[1;33m\u001b[0m\u001b[0m\n\u001b[0;32m      4\u001b[0m                               \u001b[0mtitle\u001b[0m\u001b[1;33m=\u001b[0m\u001b[1;34m'cosine sim. calculation'\u001b[0m\u001b[1;33m,\u001b[0m\u001b[1;33m\u001b[0m\u001b[1;33m\u001b[0m\u001b[0m\n\u001b[0;32m      5\u001b[0m                               color_continuous_scale=px.colors.diverging.Tealrose)\n",
      "\u001b[1;31mNameError\u001b[0m: name 'px' is not defined"
     ]
    }
   ],
   "source": [
    "fig = px.parallel_coordinates(example.copy(),\n",
    "                              color=\"cos\",\n",
    "                              labels={'cos':'score'},\n",
    "                              title='cosine sim. calculation',\n",
    "                              color_continuous_scale=px.colors.diverging.Tealrose)\n",
    "                              \n",
    "                              #color_continuous_scale=px.colors.sequential.Viridis\n",
    "fig.show()"
   ]
  }
 ],
 "metadata": {
  "kernelspec": {
   "display_name": "Python 3 (ipykernel)",
   "language": "python",
   "name": "python3"
  },
  "language_info": {
   "codemirror_mode": {
    "name": "ipython",
    "version": 3
   },
   "file_extension": ".py",
   "mimetype": "text/x-python",
   "name": "python",
   "nbconvert_exporter": "python",
   "pygments_lexer": "ipython3",
   "version": "3.8.12"
  }
 },
 "nbformat": 4,
 "nbformat_minor": 5
}
